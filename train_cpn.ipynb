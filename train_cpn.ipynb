{
 "cells": [
  {
   "cell_type": "code",
   "execution_count": 1,
   "id": "39419753",
   "metadata": {},
   "outputs": [],
   "source": [
    "%load_ext autoreload\n",
    "%autoreload 2\n",
    "\n",
    "import logging\n",
    "import os\n",
    "import sys\n",
    "\n",
    "l = logging.getLogger()\n",
    "lh = logging.StreamHandler(sys.stdout)\n",
    "l.addHandler(lh)\n",
    "l.setLevel(logging.INFO)\n",
    "\n",
    "import torch\n",
    "\n",
    "import experiment\n",
    "import cpn\n",
    "\n",
    "# Vanilla case\n",
    "#cfg = experiment.experiment.get_config(recover_after_lesion=False, coadapt=False, cuda=\"3\")\n",
    "\n",
    "# Co-adaptation case\n",
    "cfg = experiment.experiment.get_config(recover_after_lesion=True, coadapt=True, cuda=\"0\")\n",
    "\n",
    "# Co-adaptation with an AIP lesion\n",
    "#cfg = experiment.experiment.get_aip_lesion_config(cuda=\"3\", coadapt=False)\n",
    "\n",
    "# M1 lesion case\n",
    "#cfg = experiment.experiment.get_m1_lesion_config(cuda=\"3\")\n",
    "\n",
    "\n",
    "LOG_DIR = \"/home/mbryan/coproc-poc/models\"\n",
    "my_coproc = cpn.CPN_EN_CoProc(cfg, log_dir=LOG_DIR, recycle_thresh=1)"
   ]
  },
  {
   "cell_type": "code",
   "execution_count": 2,
   "id": "c3b740a0",
   "metadata": {},
   "outputs": [],
   "source": [
    "my_experiment = experiment.experiment.stage(my_coproc, cfg)"
   ]
  },
  {
   "cell_type": "code",
   "execution_count": null,
   "id": "0042fe03",
   "metadata": {},
   "outputs": [],
   "source": [
    "# Start running experiment; this and the next cell can be killed with\n",
    "#  ctrl+c, and resumed with the cell below.\n",
    "\n",
    "loss_history = my_experiment.run()"
   ]
  },
  {
   "cell_type": "code",
   "execution_count": null,
   "id": "208288fc",
   "metadata": {},
   "outputs": [],
   "source": [
    "# Show me how I did, make pretty graphs, etc.\n",
    "# TODO: this.\n",
    "#experiment.score(my_experiment.loss_history)"
   ]
  },
  {
   "cell_type": "code",
   "execution_count": 4,
   "id": "52a1caef",
   "metadata": {},
   "outputs": [
    {
     "data": {
      "image/png": "[encoded data removed]",
      "text/plain": [
       "<Figure size 432x288 with 1 Axes>"
      ]
     },
     "metadata": {
      "needs_background": "light"
     },
     "output_type": "display_data"
    },
    {
     "name": "stdout",
     "output_type": "stream",
     "text": [
      "0.01318556722253561\n",
      "0.3738261621211588\n"
     ]
    },
    {
     "data": {
      "image/png": "[encoded data removed]",
      "text/plain": [
       "<Figure size 432x288 with 1 Axes>"
      ]
     },
     "metadata": {
      "needs_background": "light"
     },
     "output_type": "display_data"
    }
   ],
   "source": [
    "# TODO: experiment.score should be producing these\n",
    "import matplotlib.pyplot as plt\n",
    "\n",
    "lh = my_experiment.loss_history\n",
    "\n",
    "task_losses = [r.task_loss for r in lh._recs if r.task_loss is not None]\n",
    "plt.plot(task_losses)\n",
    "plt.show()\n",
    "print(min(task_losses))\n",
    "print(lh.max_pct_recov)\n",
    "\n",
    "class_sep = [r.class_separation for r in lh._recs if r.class_separation is not None]\n",
    "plt.plot(class_sep)\n",
    "plt.show()\n"
   ]
  },
  {
   "cell_type": "code",
   "execution_count": 31,
   "id": "e9ddd7d6",
   "metadata": {},
   "outputs": [
    {
     "data": {
      "text/plain": [
       "LossRec(eidx=444601, task_loss=0.004459013696759939, task_val_loss=0.004254971165210009, pct_recov=0.8107209378624599, class_separation=-0.04687654566723043, user_data=CPNENStats(msg='en', epoch_type=<EpochType.EN: 0>, train_loss=0.004344584420323372, train_val_loss=0.004176819231361151, pred_loss=0.005402317736297846, pred_val_loss=0.002889303956180811))"
      ]
     },
     "execution_count": 31,
     "metadata": {},
     "output_type": "execute_result"
    }
   ],
   "source": [
    "\n",
    "my_experiment.loss_history.records[-1]"
   ]
  },
  {
   "cell_type": "code",
   "execution_count": null,
   "id": "4c41c9bf",
   "metadata": {},
   "outputs": [],
   "source": []
  }
 ],
 "metadata": {
  "kernelspec": {
   "display_name": "Python 3",
   "language": "python",
   "name": "python3"
  },
  "language_info": {
   "codemirror_mode": {
    "name": "ipython",
    "version": 3
   },
   "file_extension": ".py",
   "mimetype": "text/x-python",
   "name": "python",
   "nbconvert_exporter": "python",
   "pygments_lexer": "ipython3",
   "version": "3.8.10"
  }
 },
 "nbformat": 4,
 "nbformat_minor": 5
}
