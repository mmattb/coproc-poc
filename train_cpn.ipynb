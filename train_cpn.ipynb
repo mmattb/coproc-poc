{
 "cells": [
  {
   "cell_type": "code",
   "execution_count": 1,
   "metadata": {},
   "outputs": [],
   "source": [
    "%load_ext autoreload\n",
    "%autoreload 2\n",
    "\n",
    "import logging\n",
    "import os\n",
    "import sys\n",
    "\n",
    "l = logging.getLogger()\n",
    "lh = logging.StreamHandler(sys.stdout)\n",
    "l.addHandler(lh)\n",
    "l.setLevel(logging.INFO)\n",
    "\n",
    "import torch\n",
    "\n",
    "import experiment\n",
    "import cpn\n",
    "\n",
    "# Vanilla case\n",
    "#cfg = experiment.experiment.get_config(recover_after_lesion=False, coadapt=False, cuda=\"3\")\n",
    "\n",
    "# Co-adaptation case\n",
    "#cfg = experiment.experiment.get_config(recover_after_lesion=False, coadapt=True, cuda=\"3\")\n",
    "\n",
    "# M1 lesion case\n",
    "cfg = experiment.experiment.get_m1_lesion_config(cuda=\"3\")\n",
    "\n",
    "\n",
    "LOG_DIR = \"/home/mbryan/coproc-poc/models\"\n",
    "my_coproc = cpn.CPN_EN_CoProc(cfg, log_dir=LOG_DIR)"
   ]
  },
  {
   "cell_type": "code",
   "execution_count": null,
   "metadata": {},
   "outputs": [],
   "source": [
    "my_experiment = experiment.experiment.stage(my_coproc, cfg)"
   ]
  },
  {
   "cell_type": "code",
   "execution_count": 13,
   "metadata": {
    "scrolled": true
   },
   "outputs": [
    {
     "name": "stdout",
     "output_type": "stream",
     "text": [
      "en 444585 task_loss: 0.004459 pct_recov: 0.811 class_separation: -0.047 user: {'epoch_type': 'EN', 'train_loss': '0.004345', 'pred_loss': '0.023141', 'pred_val_loss': '0.050000'}\n",
      "en 444586 task_loss: 0.004459 pct_recov: 0.811 class_separation: -0.047 user: {'epoch_type': 'EN', 'train_loss': '0.004345', 'pred_loss': '0.020201', 'pred_val_loss': '0.050000'}\n",
      "en 444587 task_loss: 0.004459 pct_recov: 0.811 class_separation: -0.047 user: {'epoch_type': 'EN', 'train_loss': '0.004345', 'pred_loss': '0.020201', 'pred_val_loss': '0.012734'}\n",
      "en 444588 task_loss: 0.004459 pct_recov: 0.811 class_separation: -0.047 user: {'epoch_type': 'EN', 'train_loss': '0.004345', 'pred_loss': '0.015280', 'pred_val_loss': '0.012734'}\n",
      "en 444589 task_loss: 0.004459 pct_recov: 0.811 class_separation: -0.047 user: {'epoch_type': 'EN', 'train_loss': '0.004345', 'pred_loss': '0.012983', 'pred_val_loss': '0.012734'}\n",
      "en 444590 task_loss: 0.004459 pct_recov: 0.811 class_separation: -0.047 user: {'epoch_type': 'EN', 'train_loss': '0.004345', 'pred_loss': '0.010214', 'pred_val_loss': '0.012734'}\n",
      "en 444591 task_loss: 0.004459 pct_recov: 0.811 class_separation: -0.047 user: {'epoch_type': 'EN', 'train_loss': '0.004345', 'pred_loss': '0.008584', 'pred_val_loss': '0.012734'}\n",
      "en 444592 task_loss: 0.004459 pct_recov: 0.811 class_separation: -0.047 user: {'epoch_type': 'EN', 'train_loss': '0.004345', 'pred_loss': '0.008196', 'pred_val_loss': '0.012734'}\n",
      "en 444593 task_loss: 0.004459 pct_recov: 0.811 class_separation: -0.047 user: {'epoch_type': 'EN', 'train_loss': '0.004345', 'pred_loss': '0.007442', 'pred_val_loss': '0.012734'}\n",
      "en 444594 task_loss: 0.004459 pct_recov: 0.811 class_separation: -0.047 user: {'epoch_type': 'EN', 'train_loss': '0.004345', 'pred_loss': '0.006890', 'pred_val_loss': '0.012734'}\n",
      "en 444595 task_loss: 0.004459 pct_recov: 0.811 class_separation: -0.047 user: {'epoch_type': 'EN', 'train_loss': '0.004345', 'pred_loss': '0.006493', 'pred_val_loss': '0.012734'}\n",
      "en 444596 task_loss: 0.004459 pct_recov: 0.811 class_separation: -0.047 user: {'epoch_type': 'EN', 'train_loss': '0.004345', 'pred_loss': '0.005804', 'pred_val_loss': '0.012734'}\n",
      "en 444597 task_loss: 0.004459 pct_recov: 0.811 class_separation: -0.047 user: {'epoch_type': 'EN', 'train_loss': '0.004345', 'pred_loss': '0.005804', 'pred_val_loss': '0.002889'}\n",
      "en 444598 task_loss: 0.004459 pct_recov: 0.811 class_separation: -0.047 user: {'epoch_type': 'EN', 'train_loss': '0.004345', 'pred_loss': '0.005952', 'pred_val_loss': '0.002889'}\n",
      "en 444599 task_loss: 0.004459 pct_recov: 0.811 class_separation: -0.047 user: {'epoch_type': 'EN', 'train_loss': '0.004345', 'pred_loss': '0.005713', 'pred_val_loss': '0.002889'}\n",
      "en 444600 task_loss: 0.004459 pct_recov: 0.811 class_separation: -0.047 user: {'epoch_type': 'EN', 'train_loss': '0.004345', 'pred_loss': '0.005576', 'pred_val_loss': '0.002889'}\n",
      "en 444601 task_loss: 0.004459 pct_recov: 0.811 class_separation: -0.047 user: {'epoch_type': 'EN', 'train_loss': '0.004345', 'pred_loss': '0.005402', 'pred_val_loss': '0.002889'}\n"
     ]
    },
    {
     "ename": "RuntimeError",
     "evalue": "CUDA out of memory. Tried to allocate 2.00 MiB (GPU 0; 10.92 GiB total capacity; 9.06 GiB already allocated; 4.31 MiB free; 9.89 GiB reserved in total by PyTorch)",
     "output_type": "error",
     "traceback": [
      "\u001b[0;31m---------------------------------------------------------------------------\u001b[0m",
      "\u001b[0;31mRuntimeError\u001b[0m                              Traceback (most recent call last)",
      "\u001b[0;32m<ipython-input-13-ad81e3955e28>\u001b[0m in \u001b[0;36m<module>\u001b[0;34m\u001b[0m\n\u001b[1;32m      2\u001b[0m \u001b[0;31m#  ctrl+c, and resumed with the cell below.\u001b[0m\u001b[0;34m\u001b[0m\u001b[0;34m\u001b[0m\u001b[0;34m\u001b[0m\u001b[0m\n\u001b[1;32m      3\u001b[0m \u001b[0;34m\u001b[0m\u001b[0m\n\u001b[0;32m----> 4\u001b[0;31m \u001b[0mloss_history\u001b[0m \u001b[0;34m=\u001b[0m \u001b[0mmy_experiment\u001b[0m\u001b[0;34m.\u001b[0m\u001b[0mrun\u001b[0m\u001b[0;34m(\u001b[0m\u001b[0;34m)\u001b[0m\u001b[0;34m\u001b[0m\u001b[0;34m\u001b[0m\u001b[0m\n\u001b[0m",
      "\u001b[0;32m~/coproc-poc/experiment/experiment.py\u001b[0m in \u001b[0;36mrun\u001b[0;34m(self)\u001b[0m\n\u001b[1;32m    324\u001b[0m                 \u001b[0mself\u001b[0m\u001b[0;34m.\u001b[0m\u001b[0mmike\u001b[0m\u001b[0;34m.\u001b[0m\u001b[0mstimulate\u001b[0m\u001b[0;34m(\u001b[0m\u001b[0mstim\u001b[0m\u001b[0;34m)\u001b[0m\u001b[0;34m\u001b[0m\u001b[0;34m\u001b[0m\u001b[0m\n\u001b[1;32m    325\u001b[0m \u001b[0;34m\u001b[0m\u001b[0m\n\u001b[0;32m--> 326\u001b[0;31m                 \u001b[0mmike_out\u001b[0m \u001b[0;34m=\u001b[0m \u001b[0mself\u001b[0m\u001b[0;34m.\u001b[0m\u001b[0mmike\u001b[0m\u001b[0;34m(\u001b[0m\u001b[0mdin\u001b[0m\u001b[0;34m[\u001b[0m\u001b[0;34m:\u001b[0m\u001b[0;34m,\u001b[0m \u001b[0mtidx\u001b[0m \u001b[0;34m+\u001b[0m \u001b[0;36m1\u001b[0m\u001b[0;34m,\u001b[0m \u001b[0;34m:\u001b[0m\u001b[0;34m]\u001b[0m\u001b[0;34m.\u001b[0m\u001b[0mT\u001b[0m\u001b[0;34m)\u001b[0m\u001b[0;34m\u001b[0m\u001b[0;34m\u001b[0m\u001b[0m\n\u001b[0m\u001b[1;32m    327\u001b[0m                 \u001b[0mactuals\u001b[0m\u001b[0;34m.\u001b[0m\u001b[0mappend\u001b[0m\u001b[0;34m(\u001b[0m\u001b[0mmike_out\u001b[0m\u001b[0;34m.\u001b[0m\u001b[0munsqueeze\u001b[0m\u001b[0;34m(\u001b[0m\u001b[0mdim\u001b[0m\u001b[0;34m=\u001b[0m\u001b[0;36m1\u001b[0m\u001b[0;34m)\u001b[0m\u001b[0;34m)\u001b[0m\u001b[0;34m\u001b[0m\u001b[0;34m\u001b[0m\u001b[0m\n\u001b[1;32m    328\u001b[0m \u001b[0;34m\u001b[0m\u001b[0m\n",
      "\u001b[0;32m~/.local/lib/python3.6/site-packages/torch/nn/modules/module.py\u001b[0m in \u001b[0;36m_call_impl\u001b[0;34m(self, *input, **kwargs)\u001b[0m\n\u001b[1;32m   1049\u001b[0m         if not (self._backward_hooks or self._forward_hooks or self._forward_pre_hooks or _global_backward_hooks\n\u001b[1;32m   1050\u001b[0m                 or _global_forward_hooks or _global_forward_pre_hooks):\n\u001b[0;32m-> 1051\u001b[0;31m             \u001b[0;32mreturn\u001b[0m \u001b[0mforward_call\u001b[0m\u001b[0;34m(\u001b[0m\u001b[0;34m*\u001b[0m\u001b[0minput\u001b[0m\u001b[0;34m,\u001b[0m \u001b[0;34m**\u001b[0m\u001b[0mkwargs\u001b[0m\u001b[0;34m)\u001b[0m\u001b[0;34m\u001b[0m\u001b[0;34m\u001b[0m\u001b[0m\n\u001b[0m\u001b[1;32m   1052\u001b[0m         \u001b[0;31m# Do not call functions when jit is used\u001b[0m\u001b[0;34m\u001b[0m\u001b[0;34m\u001b[0m\u001b[0;34m\u001b[0m\u001b[0m\n\u001b[1;32m   1053\u001b[0m         \u001b[0mfull_backward_hooks\u001b[0m\u001b[0;34m,\u001b[0m \u001b[0mnon_full_backward_hooks\u001b[0m \u001b[0;34m=\u001b[0m \u001b[0;34m[\u001b[0m\u001b[0;34m]\u001b[0m\u001b[0;34m,\u001b[0m \u001b[0;34m[\u001b[0m\u001b[0;34m]\u001b[0m\u001b[0;34m\u001b[0m\u001b[0;34m\u001b[0m\u001b[0m\n",
      "\u001b[0;32m~/coproc-poc/experiment/mRNN.py\u001b[0m in \u001b[0;36mforward\u001b[0;34m(self, data)\u001b[0m\n\u001b[1;32m    319\u001b[0m             \u001b[0mpre_response\u001b[0m \u001b[0;34m=\u001b[0m \u001b[0mself\u001b[0m\u001b[0;34m.\u001b[0m\u001b[0mlesion\u001b[0m\u001b[0;34m.\u001b[0m\u001b[0mlesion\u001b[0m\u001b[0;34m(\u001b[0m\u001b[0mself\u001b[0m\u001b[0;34m,\u001b[0m \u001b[0mpre_response\u001b[0m\u001b[0;34m)\u001b[0m\u001b[0;34m\u001b[0m\u001b[0;34m\u001b[0m\u001b[0m\n\u001b[1;32m    320\u001b[0m \u001b[0;34m\u001b[0m\u001b[0m\n\u001b[0;32m--> 321\u001b[0;31m         \u001b[0moutput\u001b[0m \u001b[0;34m=\u001b[0m \u001b[0mself\u001b[0m\u001b[0;34m.\u001b[0m\u001b[0mactivation_func\u001b[0m\u001b[0;34m(\u001b[0m\u001b[0mpre_response\u001b[0m\u001b[0;34m)\u001b[0m\u001b[0;34m\u001b[0m\u001b[0;34m\u001b[0m\u001b[0m\n\u001b[0m\u001b[1;32m    322\u001b[0m         \u001b[0;32massert\u001b[0m \u001b[0moutput\u001b[0m\u001b[0;34m.\u001b[0m\u001b[0mshape\u001b[0m \u001b[0;34m==\u001b[0m \u001b[0;34m(\u001b[0m\u001b[0mbatch_size\u001b[0m\u001b[0;34m,\u001b[0m \u001b[0mself\u001b[0m\u001b[0;34m.\u001b[0m\u001b[0mnum_neurons\u001b[0m\u001b[0;34m)\u001b[0m\u001b[0;34m\u001b[0m\u001b[0;34m\u001b[0m\u001b[0m\n\u001b[1;32m    323\u001b[0m \u001b[0;34m\u001b[0m\u001b[0m\n",
      "\u001b[0;32m~/.local/lib/python3.6/site-packages/torch/nn/modules/module.py\u001b[0m in \u001b[0;36m_call_impl\u001b[0;34m(self, *input, **kwargs)\u001b[0m\n\u001b[1;32m   1049\u001b[0m         if not (self._backward_hooks or self._forward_hooks or self._forward_pre_hooks or _global_backward_hooks\n\u001b[1;32m   1050\u001b[0m                 or _global_forward_hooks or _global_forward_pre_hooks):\n\u001b[0;32m-> 1051\u001b[0;31m             \u001b[0;32mreturn\u001b[0m \u001b[0mforward_call\u001b[0m\u001b[0;34m(\u001b[0m\u001b[0;34m*\u001b[0m\u001b[0minput\u001b[0m\u001b[0;34m,\u001b[0m \u001b[0;34m**\u001b[0m\u001b[0mkwargs\u001b[0m\u001b[0;34m)\u001b[0m\u001b[0;34m\u001b[0m\u001b[0;34m\u001b[0m\u001b[0m\n\u001b[0m\u001b[1;32m   1052\u001b[0m         \u001b[0;31m# Do not call functions when jit is used\u001b[0m\u001b[0;34m\u001b[0m\u001b[0;34m\u001b[0m\u001b[0;34m\u001b[0m\u001b[0m\n\u001b[1;32m   1053\u001b[0m         \u001b[0mfull_backward_hooks\u001b[0m\u001b[0;34m,\u001b[0m \u001b[0mnon_full_backward_hooks\u001b[0m \u001b[0;34m=\u001b[0m \u001b[0;34m[\u001b[0m\u001b[0;34m]\u001b[0m\u001b[0;34m,\u001b[0m \u001b[0;34m[\u001b[0m\u001b[0;34m]\u001b[0m\u001b[0;34m\u001b[0m\u001b[0;34m\u001b[0m\u001b[0m\n",
      "\u001b[0;32m~/coproc-poc/experiment/utils.py\u001b[0m in \u001b[0;36mforward\u001b[0;34m(self, x)\u001b[0m\n\u001b[1;32m    130\u001b[0m \u001b[0;34m\u001b[0m\u001b[0m\n\u001b[1;32m    131\u001b[0m     \u001b[0;32mdef\u001b[0m \u001b[0mforward\u001b[0m\u001b[0;34m(\u001b[0m\u001b[0mself\u001b[0m\u001b[0;34m,\u001b[0m \u001b[0mx\u001b[0m\u001b[0;34m)\u001b[0m\u001b[0;34m:\u001b[0m\u001b[0;34m\u001b[0m\u001b[0;34m\u001b[0m\u001b[0m\n\u001b[0;32m--> 132\u001b[0;31m         \u001b[0;32mreturn\u001b[0m \u001b[0mtorch\u001b[0m\u001b[0;34m.\u001b[0m\u001b[0mtanh\u001b[0m\u001b[0;34m(\u001b[0m\u001b[0mtorch\u001b[0m\u001b[0;34m.\u001b[0m\u001b[0mclamp\u001b[0m\u001b[0;34m(\u001b[0m\u001b[0mx\u001b[0m\u001b[0;34m,\u001b[0m \u001b[0mmin\u001b[0m\u001b[0;34m=\u001b[0m\u001b[0;36m0\u001b[0m\u001b[0;34m)\u001b[0m\u001b[0;34m)\u001b[0m\u001b[0;34m\u001b[0m\u001b[0;34m\u001b[0m\u001b[0m\n\u001b[0m\u001b[1;32m    133\u001b[0m \u001b[0;34m\u001b[0m\u001b[0m\n\u001b[1;32m    134\u001b[0m \u001b[0;34m\u001b[0m\u001b[0m\n",
      "\u001b[0;31mRuntimeError\u001b[0m: CUDA out of memory. Tried to allocate 2.00 MiB (GPU 0; 10.92 GiB total capacity; 9.06 GiB already allocated; 4.31 MiB free; 9.89 GiB reserved in total by PyTorch)"
     ]
    }
   ],
   "source": [
    "# Start running experiment; this and the next cell can be killed with\n",
    "#  ctrl+c, and resumed with the cell below.\n",
    "\n",
    "loss_history = my_experiment.run()"
   ]
  },
  {
   "cell_type": "code",
   "execution_count": null,
   "metadata": {},
   "outputs": [],
   "source": [
    "# Show me how I did, make pretty graphs, etc.\n",
    "# TODO: this.\n",
    "#experiment.score(my_experiment.loss_history)"
   ]
  },
  {
   "cell_type": "code",
   "execution_count": 12,
   "metadata": {},
   "outputs": [
    {
     "data": {
      "image/png": "[encoded data removed]",
      "text/plain": [
       "<Figure size 432x288 with 1 Axes>"
      ]
     },
     "metadata": {
      "needs_background": "light"
     },
     "output_type": "display_data"
    },
    {
     "name": "stdout",
     "output_type": "stream",
     "text": [
      "0.004457979928702116\n",
      "0.8107711975223708\n"
     ]
    },
    {
     "data": {
      "image/png": "[encoded data removed]",
      "text/plain": [
       "<Figure size 432x288 with 1 Axes>"
      ]
     },
     "metadata": {
      "needs_background": "light"
     },
     "output_type": "display_data"
    }
   ],
   "source": [
    "# TODO: experiment.score should be producing these\n",
    "import matplotlib.pyplot as plt\n",
    "\n",
    "lh = my_experiment.loss_history\n",
    "\n",
    "task_losses = [r.task_loss for r in lh._recs if r.task_loss is not None]\n",
    "plt.plot(task_losses)\n",
    "plt.show()\n",
    "print(min(task_losses))\n",
    "print(lh.max_pct_recov)\n",
    "\n",
    "class_sep = [r.class_separation for r in lh._recs if r.class_separation is not None]\n",
    "plt.plot(class_sep)\n",
    "plt.show()\n"
   ]
  },
  {
   "cell_type": "code",
   "execution_count": 6,
   "metadata": {},
   "outputs": [],
   "source": [
    "my_experiment.loss_history.dump_to_file('blah.json')"
   ]
  },
  {
   "cell_type": "code",
   "execution_count": null,
   "metadata": {},
   "outputs": [],
   "source": []
  }
 ],
 "metadata": {
  "kernelspec": {
   "display_name": "Python 3",
   "language": "python",
   "name": "python3"
  }
 },
 "nbformat": 4,
 "nbformat_minor": 5
}
