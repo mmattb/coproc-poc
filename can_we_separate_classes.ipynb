{
 "cells": [
  {
   "cell_type": "code",
   "execution_count": 180,
   "id": "34dabf8a",
   "metadata": {},
   "outputs": [
    {
     "name": "stdout",
     "output_type": "stream",
     "text": [
      "The autoreload extension is already loaded. To reload it, use:\n",
      "  %reload_ext autoreload\n"
     ]
    }
   ],
   "source": [
    "%load_ext autoreload\n",
    "%autoreload 2\n",
    "\n",
    "import random\n",
    "import time\n",
    "\n",
    "import matplotlib.pyplot as plt\n",
    "import torch\n",
    "import torch.nn as nn\n",
    "from torch.utils.data import DataLoader\n",
    "from torch.optim import AdamW\n",
    "\n",
    "import cpn_model\n",
    "import config\n",
    "import michaels_load\n",
    "import mRNN\n",
    "import stim_model\n",
    "import utils\n",
    "\n",
    "\n",
    "OBSERVER_TYPE = \"gaussian\"\n",
    "LESION_PCT = 0.75\n",
    "STIMULATION_TYPE = \"gaussianExp\"\n",
    "CPN_ACTIVATION_TYPE = \"Tanh\"\n",
    "EN_ACTIVATION_TYPE = \"Tanh\"\n",
    "LESION_MODULE_ID = \"F5\"\n",
    "OBS_OUT_DIM = 64\n",
    "NUM_STIM_CHANNELS = 60\n",
    "BATCH_SIZE = 96\n",
    "\n",
    "observer, stimulus, lesion_instance, en_activation, cpn_activation, recovery_mode, recovery_str, \\\n",
    "        run_type_str, _, drop_module_idx = config.get(observer_type=OBSERVER_TYPE,\n",
    "                                              stimulation_type=STIMULATION_TYPE,\n",
    "                                              lesion_pct=LESION_PCT,\n",
    "                                              lesion_module_id=LESION_MODULE_ID,\n",
    "                                              en_activation_type=EN_ACTIVATION_TYPE,\n",
    "                                              cpn_activation_type=CPN_ACTIVATION_TYPE,\n",
    "                                              batch_size=BATCH_SIZE,\n",
    "                                              num_stim_channels=35,\n",
    "                                              obs_out_dim=OBS_OUT_DIM)\n",
    "\n",
    "CPN_DATA_DIR = \"cpn\"\n",
    "EN_DATA_DIR = \"en\"\n",
    "MRNN_DIR = \"mrnn\"\n",
    "\n"
   ]
  },
  {
   "cell_type": "code",
   "execution_count": 181,
   "id": "13b7f560",
   "metadata": {},
   "outputs": [],
   "source": [
    "# Set up the Michaels mRNN\n",
    "\n",
    "mike = mRNN.MichaelsRNN(init_data_path=michaels_load.get_default_path())\n",
    "mike.set_lesion(lesion_instance)\n",
    "mike.reset()"
   ]
  },
  {
   "cell_type": "code",
   "execution_count": 182,
   "id": "60e33588",
   "metadata": {},
   "outputs": [],
   "source": [
    "# Get the Michaels session data\n",
    "dataset = mRNN.MichaelsDataset(michaels_load.get_default_path(), with_label=True)\n",
    "\n",
    "# We have two loaders, since they maintain a little bit of state,\n",
    "# and we nest EN training inside CPN training\n",
    "loader = DataLoader(\n",
    "  dataset, batch_size=BATCH_SIZE, shuffle=True\n",
    ")\n",
    "\n",
    "# Loader produces lists of len 2:\n",
    "#  (input of batch, output of batch); which is:\n",
    "#  (shape(<=batch_size, time, 21), shape(<=batch_size, time, 50))"
   ]
  },
  {
   "cell_type": "code",
   "execution_count": 120,
   "id": "e4d1f2f9",
   "metadata": {},
   "outputs": [
    {
     "name": "stdout",
     "output_type": "stream",
     "text": [
      "torch.Size([341, 1])\n"
     ]
    },
    {
     "data": {
      "image/png": "[encoded data removed]",
      "text/plain": [
       "<Figure size 432x288 with 1 Axes>"
      ]
     },
     "metadata": {
      "needs_background": "light"
     },
     "output_type": "display_data"
    }
   ],
   "source": [
    "# Hold signal is in the last position\n",
    "plt.plot(dataset[0][0][:, -1:].detach().numpy())\n",
    "print(dataset[0][0][:, -1:].shape)\n",
    "plt.show()"
   ]
  },
  {
   "cell_type": "code",
   "execution_count": 44,
   "id": "aea87517",
   "metadata": {
    "scrolled": true
   },
   "outputs": [
    {
     "name": "stdout",
     "output_type": "stream",
     "text": [
      "0 0.017514115199446678\n"
     ]
    }
   ],
   "source": [
    "# Question 1: can we find the hold signal?\n",
    "\n",
    "loss = torch.nn.MSELoss()\n",
    "model = utils.LSTMModel(OBS_OUT_DIM * 2, 1, num_neurons=OBS_OUT_DIM)\n",
    "opt = AdamW(model.parameters(), lr=2e-3)\n",
    "ll = 1\n",
    "\n",
    "for param in mike.parameters():\n",
    "    param.requires_grad=False\n",
    "    \n",
    "eidx = 0\n",
    "while ll > 1e-3:\n",
    "    for batch in loader:\n",
    "        if ll < 0.1:\n",
    "            for p in opt.param_groups:\n",
    "                p['lr'] = 1e-4\n",
    "        if ll < 0.02:\n",
    "            for p in opt.param_groups:\n",
    "                p['lr'] = 3e-5\n",
    "                \n",
    "        opt.zero_grad()\n",
    "        \n",
    "        din, trial_end, trial_len, dout, dlabel = batch\n",
    "        steps = din.shape[1]\n",
    "        batch_size = din.shape[0]\n",
    "        \n",
    "        dvis = din[:, :, :-1]\n",
    "        dhold = din[:, :, -1:]\n",
    "        \n",
    "        mike.reset()\n",
    "        model.reset()\n",
    "        \n",
    "        preds = torch.zeros(batch_size, steps, 1)\n",
    "        for tidx in range(steps):\n",
    "            mike_in = din[:, tidx, :].T\n",
    "            mike(mike_in)\n",
    "            \n",
    "            obs = mike.observe(observer, drop_module_idx=1)\n",
    "            new_obs = torch.cat(tuple([torch.tensor(o).float() for o in obs]),\n",
    "                            axis=1)\n",
    "            pred = model(new_obs)\n",
    "            preds[:, tidx, :] = pred[:, :]\n",
    "        \n",
    "        la = loss(preds, dhold)\n",
    "        la.backward()\n",
    "        opt.step()\n",
    "        ll = la.item()\n",
    "        print(eidx, ll)\n",
    "        \n",
    "        eidx += 1\n",
    "\n",
    "        \n",
    "        break\n",
    "    break\n",
    "        \n",
    "        \n",
    "# Yes. That works"
   ]
  },
  {
   "cell_type": "code",
   "execution_count": 45,
   "id": "dd83d9de",
   "metadata": {},
   "outputs": [
    {
     "data": {
      "image/png": "[encoded data removed]",
      "text/plain": [
       "<Figure size 432x288 with 1 Axes>"
      ]
     },
     "metadata": {
      "needs_background": "light"
     },
     "output_type": "display_data"
    }
   ],
   "source": [
    "plt.plot(preds[1, :, 0].detach().numpy())\n",
    "plt.plot(dhold[1, :, 0].detach().numpy())\n",
    "plt.show()"
   ]
  },
  {
   "cell_type": "code",
   "execution_count": null,
   "id": "c82c769d",
   "metadata": {},
   "outputs": [
    {
     "name": "stdout",
     "output_type": "stream",
     "text": [
      "0 8/96 1.9488554000854492\n",
      "1 12/96 1.9458357095718384\n",
      "2 11/96 1.9546185731887817\n",
      "3 14/96 1.9579073190689087\n",
      "4 13/96 1.9440709352493286\n",
      "5 2/22 1.9573192596435547\n",
      "6 17/96 1.9442964792251587\n",
      "7 25/96 1.942487359046936\n",
      "8 13/96 1.948097586631775\n",
      "9 13/96 1.9452944993972778\n",
      "10 13/96 1.9453121423721313\n",
      "11 5/22 1.9381325244903564\n",
      "12 13/96 1.9435487985610962\n",
      "13 15/96 1.942093014717102\n",
      "14 14/96 1.94662344455719\n",
      "15 12/96 1.951521873474121\n",
      "16 14/96 1.9418258666992188\n",
      "17 4/22 1.9388947486877441\n",
      "18 7/96 1.9482229948043823\n",
      "19 15/96 1.9429006576538086\n",
      "20 26/96 1.935275673866272\n",
      "21 16/96 1.9419387578964233\n",
      "22 8/96 1.9488414525985718\n"
     ]
    }
   ],
   "source": [
    "# Question 2: can we separate the classes?\n",
    "\n",
    "loss = nn.CrossEntropyLoss()\n",
    "model = utils.LSTMModel(OBS_OUT_DIM * 3, 7, num_neurons=3*OBS_OUT_DIM)\n",
    "opt = AdamW(model.parameters(), lr=1e-3)\n",
    "ll = 1\n",
    "\n",
    "for param in mike.parameters():\n",
    "    param.requires_grad=False\n",
    "    \n",
    "eidx = 0\n",
    "while ll > 0.5:\n",
    "    for batch in loader:\n",
    "        opt.zero_grad()\n",
    "        if ll >= 1.6:\n",
    "            for p in opt.param_groups:\n",
    "                p['lr'] = 1e-3\n",
    "        elif ll < 1.6:\n",
    "            for p in opt.param_groups:\n",
    "                p['lr'] = 7e-6\n",
    "        elif ll < 1.3:\n",
    "            for p in opt.param_groups:\n",
    "                p['lr'] = 5e-6\n",
    "        elif ll < 0.5:\n",
    "            for p in opt.param_groups:\n",
    "                p['lr'] = 3e-6\n",
    "        \n",
    "        din, trial_end, trial_len, dout, dlabel = batch\n",
    "        \n",
    "        # Let's actually see if the early trial info is enough...\n",
    "        #steps = din.shape[1]\n",
    "        steps = 231\n",
    "        batch_size = din.shape[0]\n",
    "                \n",
    "        mike.reset()\n",
    "        model.reset()\n",
    "        for tidx in range(steps):\n",
    "            mike_in = din[:, tidx, :].T\n",
    "            mike(mike_in)\n",
    "            \n",
    "            obs = mike.observe(observer)#, drop_module_idx=1)\n",
    "            new_obs = torch.cat(tuple([torch.tensor(o).float() for o in obs]),\n",
    "                            axis=1)\n",
    "            pred = model(new_obs)\n",
    "        \n",
    "        la = loss(pred, dlabel)\n",
    "        ll = la.item()\n",
    "\n",
    "        \n",
    "        correct = 0\n",
    "        for x in range(batch_size):\n",
    "            m = torch.argmax(pred[x, :])\n",
    "            if m == dlabel[x]:\n",
    "                correct += 1\n",
    "        print(eidx, f\"{correct}/{batch_size}\", la.item())\n",
    "        \n",
    "        eidx += 1\n",
    "        if ll >= (la.item() * 0.8):\n",
    "            la.backward()\n",
    "            opt.step()\n",
    "        ll = la.item()\n",
    "\n"
   ]
  },
  {
   "cell_type": "code",
   "execution_count": 113,
   "id": "6c24ffc4",
   "metadata": {},
   "outputs": [
    {
     "name": "stdout",
     "output_type": "stream",
     "text": [
      "62\n"
     ]
    }
   ],
   "source": [
    "correct = 0\n",
    "for x in range(batch_size):\n",
    "    m = torch.argmax(pred[x, :])\n",
    "    if m == dlabel[x]:\n",
    "        correct += 1\n",
    "print(correct)"
   ]
  },
  {
   "cell_type": "code",
   "execution_count": 136,
   "id": "4fa5cebe",
   "metadata": {},
   "outputs": [
    {
     "name": "stdout",
     "output_type": "stream",
     "text": [
      "tensor([2.2968e-05, 3.3119e-01, 2.4881e-01, 6.2111e-03, 2.5865e-02, 1.6499e-01,\n",
      "        2.8937e-01, 2.9962e-01, 1.8222e-01, 1.4834e-01, 9.6375e-02, 2.0563e-02,\n",
      "        1.1619e-01, 4.6002e-01, 4.8300e-02, 3.7242e-02, 1.8442e-02, 1.7884e-01,\n",
      "        2.0003e-01, 1.5599e-01])\n"
     ]
    }
   ],
   "source": [
    "print(new_obs[0, 40:])"
   ]
  },
  {
   "cell_type": "code",
   "execution_count": null,
   "id": "0b6f6484",
   "metadata": {},
   "outputs": [],
   "source": [
    "#1.29 on obs dim 45 / 50% lesion"
   ]
  }
 ],
 "metadata": {
  "kernelspec": {
   "display_name": "Python 3",
   "language": "python",
   "name": "python3"
  },
  "language_info": {
   "codemirror_mode": {
    "name": "ipython",
    "version": 3
   },
   "file_extension": ".py",
   "mimetype": "text/x-python",
   "name": "python",
   "nbconvert_exporter": "python",
   "pygments_lexer": "ipython3",
   "version": "3.8.10"
  }
 },
 "nbformat": 4,
 "nbformat_minor": 5
}
