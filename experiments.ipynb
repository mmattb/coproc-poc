{
 "cells": [
  {
   "cell_type": "code",
   "execution_count": 132,
   "id": "e0898286",
   "metadata": {},
   "outputs": [
    {
     "name": "stdout",
     "output_type": "stream",
     "text": [
      "The autoreload extension is already loaded. To reload it, use:\n",
      "  %reload_ext autoreload\n"
     ]
    }
   ],
   "source": [
    "%load_ext autoreload\n",
    "%autoreload 2\n",
    "\n",
    "import matplotlib.pyplot as plt\n",
    "\n",
    "import torch\n",
    "import torch.autograd\n",
    "from torch.optim import AdamW, SGD, Adam\n",
    "import torch.nn\n",
    "\n",
    "import blah\n",
    "import random\n",
    "import stim\n",
    "import stim_model\n",
    "import cpn_model\n",
    "\n",
    "torch.autograd.set_detect_anomaly(True)\n",
    "\n",
    "# We will recapitulate sine waves with various starting\n",
    "# frequencies. 'steps' is the trial length\n",
    "steps = 200\n",
    "batch_size = 256\n",
    "target = torch.zeros((batch_size, steps, 2))\n",
    "for bidx in range(batch_size):\n",
    "    offset = bidx / float(batch_size)\n",
    "    for i in range(-100, 100):\n",
    "        t = 6 * (i / 100.0) + offset\n",
    "        # Dim 1: the target value\n",
    "        target[bidx, i + 100, 0] = torch.sin(torch.tensor(t))\n",
    "        \n",
    "        # Dim 2: a sort of label of the current target phase\n",
    "        if i == -100:\n",
    "            target[bidx, i + 100, 1] = torch.tensor(offset)\n",
    "        else:\n",
    "            target[bidx, i + 100, 1] = torch.tensor(0.0)\n",
    "            \n",
    "target = target[torch.randperm(target.shape[0]), :, :]\n",
    "\n",
    "# A 'Thing' is the thing we are stimulating. It is basically\n",
    "# a single variable diffeq-goverened system that merely dampens\n",
    "# over time, except a stimulation can excite it.\n",
    "class Thing(object):\n",
    "    def __init__(self, init=0.0, decay=0.7):\n",
    "        assert isinstance(init, float)\n",
    "        self.x = init\n",
    "        self.decay = decay\n",
    "\n",
    "    def observe(self):\n",
    "        return self.x\n",
    "\n",
    "    def step(self, input):\n",
    "        assert isinstance(input, float)\n",
    "        self.x += input\n",
    "        self.x = self.decay * self.x\n",
    "        "
   ]
  },
  {
   "cell_type": "code",
   "execution_count": 173,
   "id": "39b091b1",
   "metadata": {},
   "outputs": [],
   "source": [
    "# Train a BEN on a random regime; compare to some random CPNs\n",
    "\n",
    "  \n",
    "class CPNNoisey(cpn_model.CPNModel):\n",
    "    def forward(self, din):\n",
    "        orig = super(CPNNoisey, self).forward(din)\n",
    "        \n",
    "        # First third: original\n",
    "        # Second third: noise added\n",
    "        # Last third: noise only\n",
    "        # Remember: we randomize the order of examples in the batch, so\n",
    "        #   this will give us some good coverage over enough epochs\n",
    "        chunk_size = din.shape[0] // 3\n",
    "        out = torch.zeros(orig.shape)\n",
    "        \n",
    "        out[:chunk_size, :] = orig[:chunk_size, :]\n",
    "        out[chunk_size:2*chunk_size, :] = orig[chunk_size:2*chunk_size, :] + torch.rand(chunk_size, orig.shape[1])\n",
    "        out[-chunk_size:, :] = 6 * torch.rand(chunk_size, orig.shape[1])\n",
    "        \n",
    "        return out\n",
    "    \n",
    "class CPNNoiseyPassthrough(torch.nn.Module):\n",
    "    def __init__(self, cpn):\n",
    "        super(CPNNoiseyPassthrough, self).__init__()\n",
    "        self.cpn = cpn\n",
    "        \n",
    "    def reset(self):\n",
    "        self.cpn.reset()\n",
    "        \n",
    "    def forward(self, din):\n",
    "        orig = self.cpn(din)\n",
    "        \n",
    "        chunk_size = din.shape[0] // 3\n",
    "        out = torch.zeros(orig.shape)\n",
    "        \n",
    "        out[:chunk_size, :] = orig[:chunk_size, :]\n",
    "        out[chunk_size:, :] = orig[chunk_size:, :] + 2 * torch.rand(orig.shape[0] - chunk_size, orig.shape[1])\n",
    "        #out[chunk_size:2*chunk_size, :] = orig[chunk_size:2*chunk_size, :] + torch.rand(chunk_size, orig.shape[1])\n",
    "        #out[-chunk_size:, :] = 6 * torch.rand(chunk_size, orig.shape[1])\n",
    "        \n",
    "        return out\n",
    "\n",
    "def train_a_ben(cpn):\n",
    "    ben = stim_model.StimModel(1 + 1 + 1, 1, num_neurons=7, activation_func=torch.nn.ReLU)\n",
    "    loss = torch.nn.MSELoss()\n",
    "    opt_ben = AdamW(ben.parameters(), lr=2e-3)\n",
    "\n",
    "    for eidx in range(10000000):\n",
    "        ben.reset()\n",
    "        opt_ben.zero_grad()\n",
    "        obs = torch.zeros(batch_size, steps)\n",
    "        preds = torch.zeros(batch_size, steps)\n",
    "        cpn.reset()\n",
    "    \n",
    "        random_targets = target[torch.randperm(target.shape[0]), :, :]\n",
    "        #cpn_val = cpn_model.CPNModel(2, 1, num_neurons=7, activation_func=torch.nn.Tanh)   \n",
    "        cpn_noise = CPNNoiseyPassthrough(cpn)\n",
    "        things = [Thing(init=x.item()) for x in random_targets[:, 0, 0]]\n",
    "        s = stim.StimulusGaussianExp(1, 1, batch_size=batch_size, pad_right_neurons=1)\n",
    "        for tidx in range(steps):\n",
    "            cpn_in = torch.cat((obs[:, tidx:tidx+1], random_targets[:, tidx:tidx+1, 1]), axis=1)\n",
    "            new_stims = cpn_noise(cpn_in)\n",
    "\n",
    "            s.add(new_stims)\n",
    "            n = s.get_next().detach().numpy()\n",
    "\n",
    "            new_obs = []\n",
    "            for bidx in range(batch_size):\n",
    "                things[bidx].step(n[bidx, 0].item())\n",
    "                new_obs.append(things[bidx].observe())\n",
    "            obs[:, tidx] = torch.tensor(new_obs)\n",
    "        \n",
    "            ben_in = torch.cat((obs[:, tidx:tidx+1], new_stims, random_targets[:, tidx:tidx+1, 1]), axis=1)\n",
    "            cur_pred = ben(ben_in)\n",
    "            preds[:, tidx] = cur_pred.squeeze()\n",
    "        \n",
    "        rl = loss(preds, obs)\n",
    "        rl.backward()\n",
    "        opt_ben.step()\n",
    "    \n",
    "        # Compare to a random CPN\n",
    "        #things = [Thing(init=random_targets[bidx, 0, 0].item()) for bidx in range(batch_size)]\n",
    "        #s = stim.StimulusGaussianExp(1, 1, batch_size=256, pad_right_neurons=1)\n",
    "        #obs_val = torch.zeros(batch_size, steps)\n",
    "        #preds_val = torch.zeros(batch_size, steps)\n",
    "        #ben.reset()\n",
    "        #for tidx in range(steps):\n",
    "        #    cpn_in = torch.cat((obs_val[:, tidx:tidx+1], random_targets[:, tidx:tidx+1, 1]), axis=1)\n",
    "        #    new_stims = cpn_val(cpn_in)\n",
    "\n",
    "        #    s.add(new_stims)\n",
    "        #    n = s.get_next().detach().numpy()\n",
    "\n",
    "        #    new_obs = []\n",
    "        #    for bidx in range(batch_size):\n",
    "        #        t = things[bidx]\n",
    "        #        t.step(n[bidx, 0].item())\n",
    "        #        new_obs.append(t.observe())\n",
    "        #    obs_val[:, tidx] = torch.tensor(new_obs)\n",
    "\n",
    "        #    ben_in = torch.cat((obs_val[:, tidx:tidx+1], new_stims, random_targets[:, tidx:tidx+1, 1]), axis=1)\n",
    "        #    cur_pred = ben(ben_in)\n",
    "        #    preds_val[:, tidx] = cur_pred.squeeze()  \n",
    "        #rl_val = loss(preds_val, obs_val)\n",
    "        #print(eidx, rl.item(), rl_val.item())\n",
    "        print(\"ben\", eidx, rl.item())\n",
    "        if rl.item() < 0.0001:\n",
    "            break\n",
    "            \n",
    "    return ben"
   ]
  },
  {
   "cell_type": "code",
   "execution_count": 171,
   "id": "78d0c2bc",
   "metadata": {
    "scrolled": true
   },
   "outputs": [
    {
     "data": {
      "image/png": "[encoded data removed]",
      "text/plain": [
       "<Figure size 432x288 with 1 Axes>"
      ]
     },
     "metadata": {
      "needs_background": "light"
     },
     "output_type": "display_data"
    }
   ],
   "source": [
    "plt.plot(preds[200,:].detach().numpy())\n",
    "plt.plot(obs[200,:].detach().numpy())\n",
    "plt.show()"
   ]
  },
  {
   "cell_type": "code",
   "execution_count": 174,
   "id": "a81e1db7",
   "metadata": {},
   "outputs": [
    {
     "name": "stdout",
     "output_type": "stream",
     "text": [
      "cpn 0 0.443073570728302\n",
      "cpn 1 0.4543534815311432\n",
      "cpn 2 0.4773451089859009\n",
      "cpn 3 0.5120697617530823\n",
      "cpn 4 0.5806210041046143\n",
      "cpn 5 1.567172884941101\n",
      "cpn 6 0.7182126045227051\n",
      "cpn 7 0.8424717783927917\n",
      "cpn 8 0.9244725108146667\n",
      "cpn 9 1.0008026361465454\n",
      "cpn 10 1.0787324905395508\n",
      "cpn 11 1.1607625484466553\n",
      "cpn 12 1.2484005689620972\n",
      "cpn 13 1.3428964614868164\n",
      "cpn 14 1.4454272985458374\n",
      "cpn 15 1.55707585811615\n",
      "cpn 16 1.6786843538284302\n",
      "cpn 17 1.8106504678726196\n",
      "cpn 18 1.952765703201294\n",
      "cpn 19 2.1041855812072754\n",
      "cpn 20 2.2635974884033203\n",
      "cpn 21 2.4295144081115723\n",
      "cpn 22 2.600649356842041\n",
      "cpn 23 2.7761614322662354\n",
      "cpn 24 2.9556143283843994\n",
      "cpn 25 3.1389312744140625\n",
      "cpn 26 3.326239585876465\n",
      "cpn 27 3.6576738357543945\n",
      "cpn 28 4.178687572479248\n",
      "cpn 29 4.25743293762207\n",
      "cpn 30 4.136875629425049\n",
      "cpn 31 4.354980945587158\n",
      "cpn 32 4.577688694000244\n",
      "cpn 33 4.804881572723389\n",
      "cpn 34 5.036454677581787\n",
      "cpn 35 5.272270679473877\n",
      "cpn 36 5.512237548828125\n",
      "cpn 37 5.756182670593262\n",
      "cpn 38 6.003947734832764\n",
      "cpn 39 6.255422592163086\n",
      "cpn 40 6.510476589202881\n",
      "cpn 41 6.768940448760986\n",
      "cpn 42 7.030653476715088\n",
      "cpn 43 7.295464038848877\n",
      "cpn 44 7.563215732574463\n",
      "cpn 45 7.833765029907227\n",
      "cpn 46 8.106959342956543\n",
      "cpn 47 8.382654190063477\n",
      "cpn 48 8.660675048828125\n"
     ]
    },
    {
     "ename": "KeyboardInterrupt",
     "evalue": "",
     "output_type": "error",
     "traceback": [
      "\u001b[0;31m---------------------------------------------------------------------------\u001b[0m",
      "\u001b[0;31mKeyboardInterrupt\u001b[0m                         Traceback (most recent call last)",
      "\u001b[0;32m<ipython-input-174-883dcdf6b8f7>\u001b[0m in \u001b[0;36m<module>\u001b[0;34m\u001b[0m\n\u001b[1;32m     74\u001b[0m \u001b[0;34m\u001b[0m\u001b[0m\n\u001b[1;32m     75\u001b[0m             \u001b[0mben_in\u001b[0m \u001b[0;34m=\u001b[0m \u001b[0mtorch\u001b[0m\u001b[0;34m.\u001b[0m\u001b[0mcat\u001b[0m\u001b[0;34m(\u001b[0m\u001b[0;34m(\u001b[0m\u001b[0mnew_obs\u001b[0m\u001b[0;34m,\u001b[0m \u001b[0mnew_stim\u001b[0m\u001b[0;34m,\u001b[0m \u001b[0mind\u001b[0m\u001b[0;34m)\u001b[0m\u001b[0;34m,\u001b[0m \u001b[0maxis\u001b[0m\u001b[0;34m=\u001b[0m\u001b[0;36m1\u001b[0m\u001b[0;34m)\u001b[0m\u001b[0;34m\u001b[0m\u001b[0;34m\u001b[0m\u001b[0m\n\u001b[0;32m---> 76\u001b[0;31m             \u001b[0mcur_pred\u001b[0m \u001b[0;34m=\u001b[0m \u001b[0mben\u001b[0m\u001b[0;34m(\u001b[0m\u001b[0mben_in\u001b[0m\u001b[0;34m)\u001b[0m\u001b[0;34m\u001b[0m\u001b[0;34m\u001b[0m\u001b[0m\n\u001b[0m\u001b[1;32m     77\u001b[0m             \u001b[0mpred\u001b[0m\u001b[0;34m[\u001b[0m\u001b[0;34m:\u001b[0m\u001b[0;34m,\u001b[0m \u001b[0mtidx\u001b[0m\u001b[0;34m]\u001b[0m \u001b[0;34m=\u001b[0m \u001b[0mcur_pred\u001b[0m\u001b[0;34m.\u001b[0m\u001b[0msqueeze\u001b[0m\u001b[0;34m(\u001b[0m\u001b[0;34m)\u001b[0m\u001b[0;34m\u001b[0m\u001b[0;34m\u001b[0m\u001b[0m\n\u001b[1;32m     78\u001b[0m \u001b[0;34m\u001b[0m\u001b[0m\n",
      "\u001b[0;32m~/.local/lib/python3.8/site-packages/torch/nn/modules/module.py\u001b[0m in \u001b[0;36m_call_impl\u001b[0;34m(self, *input, **kwargs)\u001b[0m\n\u001b[1;32m    887\u001b[0m             \u001b[0mresult\u001b[0m \u001b[0;34m=\u001b[0m \u001b[0mself\u001b[0m\u001b[0;34m.\u001b[0m\u001b[0m_slow_forward\u001b[0m\u001b[0;34m(\u001b[0m\u001b[0;34m*\u001b[0m\u001b[0minput\u001b[0m\u001b[0;34m,\u001b[0m \u001b[0;34m**\u001b[0m\u001b[0mkwargs\u001b[0m\u001b[0;34m)\u001b[0m\u001b[0;34m\u001b[0m\u001b[0;34m\u001b[0m\u001b[0m\n\u001b[1;32m    888\u001b[0m         \u001b[0;32melse\u001b[0m\u001b[0;34m:\u001b[0m\u001b[0;34m\u001b[0m\u001b[0;34m\u001b[0m\u001b[0m\n\u001b[0;32m--> 889\u001b[0;31m             \u001b[0mresult\u001b[0m \u001b[0;34m=\u001b[0m \u001b[0mself\u001b[0m\u001b[0;34m.\u001b[0m\u001b[0mforward\u001b[0m\u001b[0;34m(\u001b[0m\u001b[0;34m*\u001b[0m\u001b[0minput\u001b[0m\u001b[0;34m,\u001b[0m \u001b[0;34m**\u001b[0m\u001b[0mkwargs\u001b[0m\u001b[0;34m)\u001b[0m\u001b[0;34m\u001b[0m\u001b[0;34m\u001b[0m\u001b[0m\n\u001b[0m\u001b[1;32m    890\u001b[0m         for hook in itertools.chain(\n\u001b[1;32m    891\u001b[0m                 \u001b[0m_global_forward_hooks\u001b[0m\u001b[0;34m.\u001b[0m\u001b[0mvalues\u001b[0m\u001b[0;34m(\u001b[0m\u001b[0;34m)\u001b[0m\u001b[0;34m,\u001b[0m\u001b[0;34m\u001b[0m\u001b[0;34m\u001b[0m\u001b[0m\n",
      "\u001b[0;32m~/Projects/coproc/coproc-poc/stim_model.py\u001b[0m in \u001b[0;36mforward\u001b[0;34m(self, din)\u001b[0m\n\u001b[1;32m     77\u001b[0m \u001b[0;34m\u001b[0m\u001b[0m\n\u001b[1;32m     78\u001b[0m         \u001b[0mx\u001b[0m \u001b[0;34m+=\u001b[0m \u001b[0mself\u001b[0m\u001b[0;34m.\u001b[0m\u001b[0mI\u001b[0m\u001b[0;34m.\u001b[0m\u001b[0mreshape\u001b[0m\u001b[0;34m(\u001b[0m\u001b[0;34m(\u001b[0m\u001b[0;36m1\u001b[0m\u001b[0;34m,\u001b[0m\u001b[0;34m)\u001b[0m \u001b[0;34m+\u001b[0m \u001b[0mself\u001b[0m\u001b[0;34m.\u001b[0m\u001b[0mI\u001b[0m\u001b[0;34m.\u001b[0m\u001b[0mshape\u001b[0m\u001b[0;34m)\u001b[0m \u001b[0;34m@\u001b[0m \u001b[0mdin\u001b[0m\u001b[0;34m.\u001b[0m\u001b[0mreshape\u001b[0m\u001b[0;34m(\u001b[0m\u001b[0mdin\u001b[0m\u001b[0;34m.\u001b[0m\u001b[0mshape\u001b[0m \u001b[0;34m+\u001b[0m \u001b[0;34m(\u001b[0m\u001b[0;36m1\u001b[0m\u001b[0;34m,\u001b[0m\u001b[0;34m)\u001b[0m\u001b[0;34m)\u001b[0m\u001b[0;34m\u001b[0m\u001b[0;34m\u001b[0m\u001b[0m\n\u001b[0;32m---> 79\u001b[0;31m         \u001b[0mx\u001b[0m \u001b[0;34m=\u001b[0m \u001b[0mx\u001b[0m\u001b[0;34m.\u001b[0m\u001b[0msqueeze\u001b[0m\u001b[0;34m(\u001b[0m\u001b[0;34m)\u001b[0m \u001b[0;34m+\u001b[0m \u001b[0mself\u001b[0m\u001b[0;34m.\u001b[0m\u001b[0mb\u001b[0m\u001b[0;34m\u001b[0m\u001b[0;34m\u001b[0m\u001b[0m\n\u001b[0m\u001b[1;32m     80\u001b[0m         \u001b[0mself\u001b[0m\u001b[0;34m.\u001b[0m\u001b[0mx\u001b[0m \u001b[0;34m=\u001b[0m \u001b[0mx\u001b[0m\u001b[0;34m\u001b[0m\u001b[0;34m\u001b[0m\u001b[0m\n\u001b[1;32m     81\u001b[0m \u001b[0;34m\u001b[0m\u001b[0m\n",
      "\u001b[0;32m/usr/lib/python3.8/traceback.py\u001b[0m in \u001b[0;36mformat_stack\u001b[0;34m(f, limit)\u001b[0m\n\u001b[1;32m    195\u001b[0m     \u001b[0;32mif\u001b[0m \u001b[0mf\u001b[0m \u001b[0;32mis\u001b[0m \u001b[0;32mNone\u001b[0m\u001b[0;34m:\u001b[0m\u001b[0;34m\u001b[0m\u001b[0;34m\u001b[0m\u001b[0m\n\u001b[1;32m    196\u001b[0m         \u001b[0mf\u001b[0m \u001b[0;34m=\u001b[0m \u001b[0msys\u001b[0m\u001b[0;34m.\u001b[0m\u001b[0m_getframe\u001b[0m\u001b[0;34m(\u001b[0m\u001b[0;34m)\u001b[0m\u001b[0;34m.\u001b[0m\u001b[0mf_back\u001b[0m\u001b[0;34m\u001b[0m\u001b[0;34m\u001b[0m\u001b[0m\n\u001b[0;32m--> 197\u001b[0;31m     \u001b[0;32mreturn\u001b[0m \u001b[0mformat_list\u001b[0m\u001b[0;34m(\u001b[0m\u001b[0mextract_stack\u001b[0m\u001b[0;34m(\u001b[0m\u001b[0mf\u001b[0m\u001b[0;34m,\u001b[0m \u001b[0mlimit\u001b[0m\u001b[0;34m=\u001b[0m\u001b[0mlimit\u001b[0m\u001b[0;34m)\u001b[0m\u001b[0;34m)\u001b[0m\u001b[0;34m\u001b[0m\u001b[0;34m\u001b[0m\u001b[0m\n\u001b[0m\u001b[1;32m    198\u001b[0m \u001b[0;34m\u001b[0m\u001b[0m\n\u001b[1;32m    199\u001b[0m \u001b[0;34m\u001b[0m\u001b[0m\n",
      "\u001b[0;32m/usr/lib/python3.8/traceback.py\u001b[0m in \u001b[0;36mextract_stack\u001b[0;34m(f, limit)\u001b[0m\n\u001b[1;32m    209\u001b[0m     \u001b[0;32mif\u001b[0m \u001b[0mf\u001b[0m \u001b[0;32mis\u001b[0m \u001b[0;32mNone\u001b[0m\u001b[0;34m:\u001b[0m\u001b[0;34m\u001b[0m\u001b[0;34m\u001b[0m\u001b[0m\n\u001b[1;32m    210\u001b[0m         \u001b[0mf\u001b[0m \u001b[0;34m=\u001b[0m \u001b[0msys\u001b[0m\u001b[0;34m.\u001b[0m\u001b[0m_getframe\u001b[0m\u001b[0;34m(\u001b[0m\u001b[0;34m)\u001b[0m\u001b[0;34m.\u001b[0m\u001b[0mf_back\u001b[0m\u001b[0;34m\u001b[0m\u001b[0;34m\u001b[0m\u001b[0m\n\u001b[0;32m--> 211\u001b[0;31m     \u001b[0mstack\u001b[0m \u001b[0;34m=\u001b[0m \u001b[0mStackSummary\u001b[0m\u001b[0;34m.\u001b[0m\u001b[0mextract\u001b[0m\u001b[0;34m(\u001b[0m\u001b[0mwalk_stack\u001b[0m\u001b[0;34m(\u001b[0m\u001b[0mf\u001b[0m\u001b[0;34m)\u001b[0m\u001b[0;34m,\u001b[0m \u001b[0mlimit\u001b[0m\u001b[0;34m=\u001b[0m\u001b[0mlimit\u001b[0m\u001b[0;34m)\u001b[0m\u001b[0;34m\u001b[0m\u001b[0;34m\u001b[0m\u001b[0m\n\u001b[0m\u001b[1;32m    212\u001b[0m     \u001b[0mstack\u001b[0m\u001b[0;34m.\u001b[0m\u001b[0mreverse\u001b[0m\u001b[0;34m(\u001b[0m\u001b[0;34m)\u001b[0m\u001b[0;34m\u001b[0m\u001b[0;34m\u001b[0m\u001b[0m\n\u001b[1;32m    213\u001b[0m     \u001b[0;32mreturn\u001b[0m \u001b[0mstack\u001b[0m\u001b[0;34m\u001b[0m\u001b[0;34m\u001b[0m\u001b[0m\n",
      "\u001b[0;32m/usr/lib/python3.8/traceback.py\u001b[0m in \u001b[0;36mextract\u001b[0;34m(klass, frame_gen, limit, lookup_lines, capture_locals)\u001b[0m\n\u001b[1;32m    360\u001b[0m                 filename, lineno, name, lookup_line=False, locals=f_locals))\n\u001b[1;32m    361\u001b[0m         \u001b[0;32mfor\u001b[0m \u001b[0mfilename\u001b[0m \u001b[0;32min\u001b[0m \u001b[0mfnames\u001b[0m\u001b[0;34m:\u001b[0m\u001b[0;34m\u001b[0m\u001b[0;34m\u001b[0m\u001b[0m\n\u001b[0;32m--> 362\u001b[0;31m             \u001b[0mlinecache\u001b[0m\u001b[0;34m.\u001b[0m\u001b[0mcheckcache\u001b[0m\u001b[0;34m(\u001b[0m\u001b[0mfilename\u001b[0m\u001b[0;34m)\u001b[0m\u001b[0;34m\u001b[0m\u001b[0;34m\u001b[0m\u001b[0m\n\u001b[0m\u001b[1;32m    363\u001b[0m         \u001b[0;31m# If immediate lookup was desired, trigger lookups now.\u001b[0m\u001b[0;34m\u001b[0m\u001b[0;34m\u001b[0m\u001b[0;34m\u001b[0m\u001b[0m\n\u001b[1;32m    364\u001b[0m         \u001b[0;32mif\u001b[0m \u001b[0mlookup_lines\u001b[0m\u001b[0;34m:\u001b[0m\u001b[0;34m\u001b[0m\u001b[0;34m\u001b[0m\u001b[0m\n",
      "\u001b[0;32m~/.local/lib/python3.8/site-packages/IPython/core/compilerop.py\u001b[0m in \u001b[0;36mcheck_linecache_ipython\u001b[0;34m(*args)\u001b[0m\n\u001b[1;32m    186\u001b[0m     \u001b[0;31m# Then, update back the cache with our data, so that tracebacks related\u001b[0m\u001b[0;34m\u001b[0m\u001b[0;34m\u001b[0m\u001b[0;34m\u001b[0m\u001b[0m\n\u001b[1;32m    187\u001b[0m     \u001b[0;31m# to our compiled codes can be produced.\u001b[0m\u001b[0;34m\u001b[0m\u001b[0;34m\u001b[0m\u001b[0;34m\u001b[0m\u001b[0m\n\u001b[0;32m--> 188\u001b[0;31m     \u001b[0mlinecache\u001b[0m\u001b[0;34m.\u001b[0m\u001b[0mcache\u001b[0m\u001b[0;34m.\u001b[0m\u001b[0mupdate\u001b[0m\u001b[0;34m(\u001b[0m\u001b[0mlinecache\u001b[0m\u001b[0;34m.\u001b[0m\u001b[0m_ipython_cache\u001b[0m\u001b[0;34m)\u001b[0m\u001b[0;34m\u001b[0m\u001b[0;34m\u001b[0m\u001b[0m\n\u001b[0m",
      "\u001b[0;31mKeyboardInterrupt\u001b[0m: "
     ]
    }
   ],
   "source": [
    "# @preston: this is the core learning algorithm, and seems to be\n",
    "# able to converge if the problem is structured in a sane way.\n",
    "#\n",
    "# In essence: this training loop trains until the (B)EN reaches a\n",
    "#  certain threshold of loss on the untrained CPN. This can take\n",
    "#  awhile to converge. Once it does, the CPN will be trained. The\n",
    "#  BEN is then retrained until it converges again. That way: we only\n",
    "#  ever train the CPN on an 'accurate' BEN.\n",
    "#\n",
    "# Adding the \"label\" input, which is the second column in target, is\n",
    "# necessary. Alternatively once could start every trial at the same\n",
    "# phase - basically memorizing one exact sine wave.\n",
    "\n",
    "# An observation of a 1 dimensional thing, 1 dimension of stimulation, 1 dimension 'label'\n",
    "#  1 dimension output, predicting the next state of the thing.\n",
    "#ben = stim_model.StimModel(1 + 1 + 1, 1, num_neurons=7, activation_func=torch.nn.ReLU)\n",
    "#  1 dimension of stim param, output\n",
    "cpn = cpn_model.CPNModel(1 + 1, 1, num_neurons=7, activation_func=torch.nn.Tanh)\n",
    "\n",
    "loss = torch.nn.MSELoss()\n",
    "opt_cpn = AdamW(cpn.parameters(), lr=4e-3)\n",
    "#opt_ben = AdamW(ben.parameters(), lr=2e-3)\n",
    "rli = 1\n",
    "opt_str = \"ben\"\n",
    "\n",
    "ben_losses = []\n",
    "cpn_losses = []\n",
    "\n",
    "while True:\n",
    "    ben = get_a_ben(cpn)\n",
    "    for eidx in range(500):\n",
    "        cpn.reset()\n",
    "        ben.reset()\n",
    "        opt_cpn.zero_grad()\n",
    "        opt_ben.zero_grad()\n",
    "    \n",
    "        if True: # rli < 1e-4 and opt_str == \"ben\":\n",
    "            opt_str = \"cpn\"\n",
    "            for param in cpn.parameters():\n",
    "                param.requires_grad=True\n",
    "            for param in ben.parameters():\n",
    "                param.requires_grad=False\n",
    "        else:\n",
    "            opt_str = \"ben\"\n",
    "            for param in cpn.parameters():\n",
    "                param.requires_grad=False\n",
    "            for param in ben.parameters():\n",
    "                param.requires_grad=True\n",
    "\n",
    "        # Probably more interesting to always start at 0, or\n",
    "        thing = [Thing(init=x.item()) for x in target[:, 0, 0]]\n",
    "    \n",
    "        cur = target[:, 0, :].reshape(256,2)\n",
    "        pred = torch.zeros((256, steps))\n",
    "        # This is actually very simple in our single variable context: it outputs\n",
    "        # a stimulation value which decays to 0 over time.\n",
    "        # The 'padding' is a cludgy, ugly thing that you can ignore; it's for\n",
    "        #  the purpose of applying to the Michaels model. I may remove it later.\n",
    "        s = stim.StimulusGaussianExp(1, 1, batch_size=256, pad_right_neurons=1)\n",
    "\n",
    "        obs = [t.observe() for t in thing]\n",
    "        new_obs = torch.tensor(obs).reshape(256,1)\n",
    "    \n",
    "        all_obs = torch.zeros(256, steps)\n",
    "        stims = []\n",
    "\n",
    "        for tidx in range(steps):\n",
    "            ind = target[:, tidx, 1].reshape(256,1)\n",
    "            cpn_in = torch.cat((new_obs, ind), axis=1)\n",
    "            new_stim = cpn(cpn_in)\n",
    "        \n",
    "            if opt_str == \"cpn\":\n",
    "                new_stim.retain_grad()\n",
    "                stims.append(new_stim)\n",
    "        \n",
    "            ben_in = torch.cat((new_obs, new_stim, ind), axis=1)\n",
    "            cur_pred = ben(ben_in)\n",
    "            pred[:, tidx] = cur_pred.squeeze()\n",
    "        \n",
    "            s.add(new_stim)\n",
    "            n = s.get_next().detach().numpy()\n",
    "\n",
    "            obs = []\n",
    "            for bidx in range(batch_size):\n",
    "                thing[bidx].step(n[bidx, 0].item())\n",
    "                obs.append(thing[bidx].observe())\n",
    "\n",
    "            new_obs = torch.tensor(obs, requires_grad=False).reshape(256,1)\n",
    "            all_obs[:, tidx:tidx+1] = new_obs\n",
    "        \n",
    "        if opt_str == \"ben\":\n",
    "            rl = loss(pred, all_obs)\n",
    "        else:\n",
    "            rl = loss(pred, target[:, :, 0])\n",
    "        \n",
    "        rli = rl.item()\n",
    "        rl.backward()\n",
    "    \n",
    "        if opt_str == \"ben\":\n",
    "            print(opt_str, eidx, rl.item())\n",
    "            ben_losses.append(rli)\n",
    "            opt_ben.step()\n",
    "        else:\n",
    "            print(opt_str, eidx, rl.item())\n",
    "            cpn_losses.append(rli)\n",
    "            opt_cpn.step()\n",
    "            \n",
    "    \n",
    "plt.plot(pred[0,:].detach().numpy())\n",
    "plt.plot(all_obs[0,:].detach().numpy())\n",
    "plt.plot(target[0, :, 0].detach().numpy())\n",
    "plt.show()"
   ]
  },
  {
   "cell_type": "code",
   "execution_count": 175,
   "id": "8e126186",
   "metadata": {},
   "outputs": [
    {
     "ename": "TypeError",
     "evalue": "'NoneType' object is not subscriptable",
     "output_type": "error",
     "traceback": [
      "\u001b[0;31m---------------------------------------------------------------------------\u001b[0m",
      "\u001b[0;31mTypeError\u001b[0m                                 Traceback (most recent call last)",
      "\u001b[0;32m<ipython-input-175-2318393858b3>\u001b[0m in \u001b[0;36m<module>\u001b[0;34m\u001b[0m\n\u001b[0;32m----> 1\u001b[0;31m \u001b[0mplt\u001b[0m\u001b[0;34m.\u001b[0m\u001b[0mplot\u001b[0m\u001b[0;34m(\u001b[0m\u001b[0;34m[\u001b[0m\u001b[0ms\u001b[0m\u001b[0;34m.\u001b[0m\u001b[0mgrad\u001b[0m\u001b[0;34m[\u001b[0m\u001b[0;34m-\u001b[0m\u001b[0;36m5\u001b[0m\u001b[0;34m]\u001b[0m\u001b[0;34m.\u001b[0m\u001b[0mitem\u001b[0m\u001b[0;34m(\u001b[0m\u001b[0;34m)\u001b[0m \u001b[0;32mfor\u001b[0m \u001b[0ms\u001b[0m \u001b[0;32min\u001b[0m \u001b[0mstims\u001b[0m\u001b[0;34m]\u001b[0m\u001b[0;34m)\u001b[0m\u001b[0;34m\u001b[0m\u001b[0;34m\u001b[0m\u001b[0m\n\u001b[0m\u001b[1;32m      2\u001b[0m \u001b[0mplt\u001b[0m\u001b[0;34m.\u001b[0m\u001b[0mplot\u001b[0m\u001b[0;34m(\u001b[0m\u001b[0;34m[\u001b[0m\u001b[0;36m0.0\u001b[0m \u001b[0;32mfor\u001b[0m \u001b[0ms\u001b[0m \u001b[0;32min\u001b[0m \u001b[0mstims\u001b[0m\u001b[0;34m]\u001b[0m\u001b[0;34m)\u001b[0m\u001b[0;34m\u001b[0m\u001b[0;34m\u001b[0m\u001b[0m\n",
      "\u001b[0;32m<ipython-input-175-2318393858b3>\u001b[0m in \u001b[0;36m<listcomp>\u001b[0;34m(.0)\u001b[0m\n\u001b[0;32m----> 1\u001b[0;31m \u001b[0mplt\u001b[0m\u001b[0;34m.\u001b[0m\u001b[0mplot\u001b[0m\u001b[0;34m(\u001b[0m\u001b[0;34m[\u001b[0m\u001b[0ms\u001b[0m\u001b[0;34m.\u001b[0m\u001b[0mgrad\u001b[0m\u001b[0;34m[\u001b[0m\u001b[0;34m-\u001b[0m\u001b[0;36m5\u001b[0m\u001b[0;34m]\u001b[0m\u001b[0;34m.\u001b[0m\u001b[0mitem\u001b[0m\u001b[0;34m(\u001b[0m\u001b[0;34m)\u001b[0m \u001b[0;32mfor\u001b[0m \u001b[0ms\u001b[0m \u001b[0;32min\u001b[0m \u001b[0mstims\u001b[0m\u001b[0;34m]\u001b[0m\u001b[0;34m)\u001b[0m\u001b[0;34m\u001b[0m\u001b[0;34m\u001b[0m\u001b[0m\n\u001b[0m\u001b[1;32m      2\u001b[0m \u001b[0mplt\u001b[0m\u001b[0;34m.\u001b[0m\u001b[0mplot\u001b[0m\u001b[0;34m(\u001b[0m\u001b[0;34m[\u001b[0m\u001b[0;36m0.0\u001b[0m \u001b[0;32mfor\u001b[0m \u001b[0ms\u001b[0m \u001b[0;32min\u001b[0m \u001b[0mstims\u001b[0m\u001b[0;34m]\u001b[0m\u001b[0;34m)\u001b[0m\u001b[0;34m\u001b[0m\u001b[0;34m\u001b[0m\u001b[0m\n",
      "\u001b[0;31mTypeError\u001b[0m: 'NoneType' object is not subscriptable"
     ]
    }
   ],
   "source": [
    "plt.plot([s.grad[-5].item() for s in stims])\n",
    "plt.plot([0.0 for s in stims])"
   ]
  },
  {
   "cell_type": "code",
   "execution_count": 149,
   "id": "966472bc",
   "metadata": {},
   "outputs": [
    {
     "data": {
      "text/plain": [
       "[<matplotlib.lines.Line2D at 0x7fec584abac0>]"
      ]
     },
     "execution_count": 149,
     "metadata": {},
     "output_type": "execute_result"
    },
    {
     "data": {
      "image/png": "[encoded data removed]",
      "text/plain": [
       "<Figure size 432x288 with 1 Axes>"
      ]
     },
     "metadata": {
      "needs_background": "light"
     },
     "output_type": "display_data"
    }
   ],
   "source": [
    "plt.plot([s[0].item() for s in stims])"
   ]
  },
  {
   "cell_type": "code",
   "execution_count": 130,
   "id": "fc21dc9e",
   "metadata": {},
   "outputs": [
    {
     "data": {
      "image/png": "[encoded data removed]",
      "text/plain": [
       "<Figure size 432x288 with 1 Axes>"
      ]
     },
     "metadata": {
      "needs_background": "light"
     },
     "output_type": "display_data"
    }
   ],
   "source": [
    "plt.plot(pred[1,:].detach().numpy())\n",
    "plt.plot(all_obs[1,:].detach().numpy())\n",
    "plt.plot(target[1,:,0].detach().numpy())\n",
    "plt.show()"
   ]
  },
  {
   "cell_type": "code",
   "execution_count": 129,
   "id": "71e62b02",
   "metadata": {},
   "outputs": [
    {
     "name": "stdout",
     "output_type": "stream",
     "text": [
      "tensor([0.6953, 0.0234, 0.6484, 0.8242, 0.1445, 0.6445, 0.0898, 0.7461, 0.4805,\n",
      "        0.8594, 0.3125, 0.8984, 0.4609, 0.5859, 0.6758, 0.8750, 0.3789, 0.5664,\n",
      "        0.5781, 0.0117, 0.1914, 0.2500, 0.0547, 0.4297, 0.7852, 0.7422, 0.4414,\n",
      "        0.8086, 0.0664, 0.6016, 0.3438, 0.4883, 0.1719, 0.2891, 0.7578, 0.1523,\n",
      "        0.9609, 0.7109, 0.6719, 0.1953, 0.0469, 0.2266, 0.2578, 0.5312, 0.0625,\n",
      "        0.7227, 0.3711, 0.8516, 0.9219, 0.1289, 0.1875, 0.5547, 0.3477, 0.6406,\n",
      "        0.8398, 0.3906, 0.6836, 0.0820, 0.7656, 0.0195, 0.7773, 0.3867, 0.0508,\n",
      "        0.7266, 0.2305, 0.6094, 0.8047, 0.3086, 0.6523, 0.7969, 0.5938, 0.3203,\n",
      "        0.0352, 0.4961, 0.3398, 0.1172, 0.1602, 0.3242, 0.1328, 0.1562, 0.9453,\n",
      "        0.5000, 0.1992, 0.9336, 0.3516, 0.2109, 0.0000, 0.9805, 0.7617, 0.7383,\n",
      "        0.6328, 0.1211, 0.4141, 0.4688, 0.2539, 0.1133, 0.9688, 0.9297, 0.2930,\n",
      "        0.6680, 0.2070, 0.1836, 0.4375, 0.5156, 0.8906, 0.7930, 0.5078, 0.5703,\n",
      "        0.1055, 0.6641, 0.3672, 0.0078, 0.9258, 0.3008, 0.6797, 0.5977, 0.8125,\n",
      "        0.8164, 0.3945, 0.7500, 0.8281, 0.9727, 0.6289, 0.5469, 0.7305, 0.5352,\n",
      "        0.3320, 0.1367, 0.5039, 0.8320, 0.4023, 0.5625, 0.7188, 0.1016, 0.7734,\n",
      "        0.8008, 0.9531, 0.6992, 0.7031, 0.4336, 0.5391, 0.4648, 0.3633, 0.8477,\n",
      "        0.8359, 0.2773, 0.9648, 0.0781, 0.6367, 0.2148, 0.7344, 0.9961, 0.1406,\n",
      "        0.0977, 0.6875, 0.2695, 0.2734, 0.3594, 0.9102, 0.9180, 0.3281, 0.2969,\n",
      "        0.2031, 0.8555, 0.4492, 0.2344, 0.0703, 0.5195, 0.3555, 0.5430, 0.2188,\n",
      "        0.2852, 0.1758, 0.0312, 0.3828, 0.8828, 0.4453, 0.6211, 0.8438, 0.7812,\n",
      "        0.4844, 0.3359, 0.4062, 0.7148, 0.8672, 0.1250, 0.5742, 0.7070, 0.8945,\n",
      "        0.8867, 0.9023, 0.0430, 0.3984, 0.5117, 0.6562, 0.5820, 0.0039, 0.4766,\n",
      "        0.8203, 0.7891, 0.9141, 0.9570, 0.9062, 0.6250, 0.4531, 0.2422, 0.9375,\n",
      "        0.9766, 0.6602, 0.7539, 0.0859, 0.1797, 0.2461, 0.6055, 0.3750, 0.2227,\n",
      "        0.2656, 0.6914, 0.4219, 0.4922, 0.8789, 0.0586, 0.3164, 0.5508, 0.1641,\n",
      "        0.9883, 0.2383, 0.4102, 0.2812, 0.9844, 0.7695, 0.9492, 0.0273, 0.8633,\n",
      "        0.0938, 0.1094, 0.5273, 0.0742, 0.3047, 0.6172, 0.0156, 0.4180, 0.5234,\n",
      "        0.1484, 0.4570, 0.8711, 0.1680, 0.4258, 0.0391, 0.9414, 0.6133, 0.2617,\n",
      "        0.4727, 0.5586, 0.9922, 0.5898])\n"
     ]
    }
   ],
   "source": [
    "\n",
    "print(target[:, -100, 1])"
   ]
  },
  {
   "cell_type": "code",
   "execution_count": null,
   "id": "780546da",
   "metadata": {},
   "outputs": [],
   "source": [
    "# Example targets\n",
    "    \n",
    "plt.plot(target[0,:,0])\n",
    "plt.plot(target[200,:,0])\n",
    "    \n",
    "plt.show()"
   ]
  },
  {
   "cell_type": "code",
   "execution_count": 19,
   "id": "6fc27e76",
   "metadata": {},
   "outputs": [
    {
     "name": "stdout",
     "output_type": "stream",
     "text": [
      "tensor([ -1.7571, -10.0054,  -1.7579,   3.0444,  -1.2871,  -4.5052,  -1.2898],\n",
      "       grad_fn=<AddBackward0>)\n"
     ]
    },
    {
     "data": {
      "text/plain": [
       "[<matplotlib.lines.Line2D at 0x7fec94bff2e0>]"
      ]
     },
     "execution_count": 19,
     "metadata": {},
     "output_type": "execute_result"
    },
    {
     "data": {
      "image/png": "[encoded data removed]",
      "text/plain": [
       "<Figure size 432x288 with 1 Axes>"
      ]
     },
     "metadata": {
      "needs_background": "light"
     },
     "output_type": "display_data"
    }
   ],
   "source": [
    "# Direct observation (no EN). Looks like trash. But if I 'observe' the target,\n",
    "# the CPN acts generally correct. I clearly have the problem structured\n",
    "# wrong. \n",
    "cpn.reset()\n",
    "stims = torch.zeros(200,1)\n",
    "thing = Thing(init=target[100,0,0].item())\n",
    "outs = torch.zeros(200,steps)\n",
    "s = stim.StimulusGaussianExp(1, 1, batch_size=1, pad_right_neurons=1)\n",
    "\n",
    "for tidx in range(steps):\n",
    "    obs = torch.tensor(thing.observe()).reshape(1,1)\n",
    "    outs[tidx,:] = obs\n",
    "    \n",
    "    #cur = target[-2, tidx, :].reshape(1,2)\n",
    "    cur = torch.cat((obs, target[100, tidx, 1].reshape(1,1)), axis=1)\n",
    "    stims[tidx,:] = cpn(cur)\n",
    "    #stims[tidx,:] = cpn(obs)\n",
    "    \n",
    "    s.add(stims[tidx,:])\n",
    "    thing.step(s.get_next()[0,:1].item())\n",
    "    \n",
    "print(cpn.x)\n",
    "\n",
    "plt.plot(stims.detach().numpy())\n",
    "plt.plot(outs.detach().numpy())\n",
    "plt.plot(target[100,:,0].detach().numpy())"
   ]
  },
  {
   "cell_type": "code",
   "execution_count": 100,
   "id": "ba7186c2",
   "metadata": {},
   "outputs": [],
   "source": [
    "torch.save(ben.state_dict(), 'generalizable_ben')"
   ]
  },
  {
   "cell_type": "code",
   "execution_count": null,
   "id": "7dacf90e",
   "metadata": {},
   "outputs": [],
   "source": []
  }
 ],
 "metadata": {
  "kernelspec": {
   "display_name": "Python 3",
   "language": "python",
   "name": "python3"
  },
  "language_info": {
   "codemirror_mode": {
    "name": "ipython",
    "version": 3
   },
   "file_extension": ".py",
   "mimetype": "text/x-python",
   "name": "python",
   "nbconvert_exporter": "python",
   "pygments_lexer": "ipython3",
   "version": "3.8.5"
  }
 },
 "nbformat": 4,
 "nbformat_minor": 5
}
