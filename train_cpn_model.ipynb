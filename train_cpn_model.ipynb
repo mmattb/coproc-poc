{
 "cells": [
  {
   "cell_type": "code",
   "execution_count": 1,
   "id": "9b89ec40",
   "metadata": {},
   "outputs": [],
   "source": [
    "%load_ext autoreload\n",
    "%autoreload 2\n",
    "\n",
    "import os\n",
    "import statistics\n",
    "\n",
    "import h5py\n",
    "import numpy as np\n",
    "import matplotlib.pyplot as plt\n",
    "import torch\n",
    "from torch.optim import Adam, AdamW\n",
    "from torch.utils.data import DataLoader\n",
    "\n",
    "import config\n",
    "import cpn_model\n",
    "import generate_cpn_train_data\n",
    "import lesion\n",
    "import michaels_load\n",
    "import mRNN\n",
    "import observer\n",
    "import stim\n",
    "import utils\n",
    "\n",
    "OBSERVER_TYPE = \"gaussian\"\n",
    "LESION_PCT = 1.0\n",
    "STIMULATION_TYPE = \"gaussian\"\n",
    "ACTIVATION_TYPE = \"ReTanh\"\n",
    "BEN_ACTIVATION_TYPE = \"ReLU\"\n",
    "BATCH_SIZE = 64\n",
    "\n",
    "observer_instance, stimulus, lesion_instance, activation, recovery_mode, recovery_str, \\\n",
    "        run_type_str, _ = config.get(observer_type=OBSERVER_TYPE,\n",
    "                                              stimulation_type=STIMULATION_TYPE,\n",
    "                                              lesion_pct=LESION_PCT,\n",
    "                                              activation_type=ACTIVATION_TYPE,\n",
    "                                              batch_size=BATCH_SIZE)\n",
    "\n",
    "CPN_DATA_DIR = \"cpn\"\n",
    "BEN_DATA_DIR = \"ben\"\n",
    "MRNN_DIR = \"mrnn\"\n",
    "CPN_DATA_PATH = os.path.join(CPN_DATA_DIR, f\"cpn_train_data_{run_type_str}.hdf5\")\n",
    "BEN_MODEL_PATH = os.path.join(BEN_DATA_DIR, f\"ben_model_{BEN_ACTIVATION_TYPE}_{run_type_str}.pth\")\n",
    "MRNN_MODEL_PATH = os.path.join(MRNN_DIR, f\"mrnn_{str(lesion_instance)}_{recovery_str}.pth\")\n",
    "MRNN_HEALTHY_MODEL_PATH = os.path.join(MRNN_DIR, f\"mrnn_{str(lesion_instance)}_{recovery_str}.pth_pre\")\n",
    "HEALTHY_DATA_PATH = os.path.join(CPN_DATA_DIR, f\"cpn_healthy_train_data_{run_type_str}.hdf5\")\n"
   ]
  },
  {
   "cell_type": "code",
   "execution_count": 2,
   "id": "751773ab",
   "metadata": {
    "scrolled": true
   },
   "outputs": [
    {
     "name": "stdout",
     "output_type": "stream",
     "text": [
      "1622412493.5638661 Generating example 0\n",
      "1622412504.2174082 Generating example 100\n",
      "1622412514.8929935 Generating example 200\n",
      "1622412525.5372133 Generating example 300\n",
      "1622412536.2411902 Generating example 400\n",
      "1622412546.916648 Generating example 500\n",
      "1622412557.544474 Generating example 600\n",
      "1622412568.218761 Generating example 700\n",
      "1622412578.8795252 Generating example 800\n",
      "1622412589.5417264 Generating example 900\n",
      "1622412600.2217777 Generating example 1000\n",
      "1622412610.9145374 Generating example 1100\n",
      "1622412621.6252654 Generating example 1200\n",
      "1622412632.2902086 Generating example 1300\n",
      "1622412642.9382613 Generating example 1400\n",
      "1622412653.5609176 Generating example 1500\n",
      "1622412664.1990726 Generating example 1600\n",
      "1622412674.812902 Generating example 1700\n",
      "1622412685.4653907 Generating example 1800\n",
      "1622412696.1164498 Generating example 1900\n"
     ]
    },
    {
     "data": {
      "text/plain": [
       "(array([[-0.02150223, -0.01471637, -0.15769812, ...,  0.02501846,\n",
       "          0.00500783,  1.        ],\n",
       "        [-0.02150223, -0.01471637, -0.15769812, ...,  0.02501846,\n",
       "          0.00500783,  1.        ],\n",
       "        [-0.02150223, -0.01471637, -0.15769812, ...,  0.02501846,\n",
       "          0.00500783,  1.        ],\n",
       "        ...,\n",
       "        [-0.02150223, -0.01471637, -0.15769812, ...,  0.02501846,\n",
       "          0.00500783,  0.        ],\n",
       "        [-0.02150223, -0.01471637, -0.15769812, ...,  0.02501846,\n",
       "          0.00500783,  0.        ],\n",
       "        [-0.02150223, -0.01471637, -0.15769812, ...,  0.02501846,\n",
       "          0.00500783,  0.        ]]),\n",
       " array([[0.00252967, 0.01227746, 0.08356892, ..., 0.0050797 , 0.08490833,\n",
       "         0.00923976],\n",
       "        [0.01334654, 0.00640347, 0.08222893, ..., 0.00523181, 0.09038559,\n",
       "         0.0135254 ],\n",
       "        [0.02351345, 0.00341785, 0.0815514 , ..., 0.00550089, 0.09614731,\n",
       "         0.01774631],\n",
       "        ...,\n",
       "        [0.23316082, 0.07880791, 0.0666663 , ..., 0.12709798, 0.21532099,\n",
       "         0.02442526],\n",
       "        [0.23581788, 0.07926007, 0.06666332, ..., 0.13048244, 0.21477665,\n",
       "         0.02456874],\n",
       "        [0.23844094, 0.07984164, 0.06668748, ..., 0.13374845, 0.21431723,\n",
       "         0.02472615]]))"
      ]
     },
     "execution_count": 2,
     "metadata": {},
     "output_type": "execute_result"
    }
   ],
   "source": [
    "_ = generate_cpn_train_data.generate(HEALTHY_DATA_PATH, MRNN_HEALTHY_MODEL_PATH, observer_instance)"
   ]
  },
  {
   "cell_type": "code",
   "execution_count": 70,
   "id": "d18ace1c",
   "metadata": {},
   "outputs": [
    {
     "name": "stdout",
     "output_type": "stream",
     "text": [
      "Loading dataset; this may take awhile...\n"
     ]
    }
   ],
   "source": [
    "train_args = cpn_model.prep_new(HEALTHY_DATA_PATH, MRNN_MODEL_PATH, BEN_MODEL_PATH, observer_instance,\n",
    "                                lesion_instance, stimulus, activation, batch_size=BATCH_SIZE)"
   ]
  },
  {
   "cell_type": "code",
   "execution_count": 76,
   "id": "062ec186",
   "metadata": {},
   "outputs": [
    {
     "name": "stdout",
     "output_type": "stream",
     "text": [
      "Epoch: 0\n",
      "tensor(0.0904, grad_fn=<MseLossBackward>)\n",
      "> \u001b[0;32m/home/mbryan/Projects/coproc/coproc-poc/cpn_model.py\u001b[0m(219)\u001b[0;36mtrain_model\u001b[0;34m()\u001b[0m\n",
      "\u001b[0;32m    217 \u001b[0;31m\u001b[0;34m\u001b[0m\u001b[0m\n",
      "\u001b[0m\u001b[0;32m    218 \u001b[0;31m            \u001b[0mloss\u001b[0m\u001b[0;34m.\u001b[0m\u001b[0mbackward\u001b[0m\u001b[0;34m(\u001b[0m\u001b[0;34m)\u001b[0m\u001b[0;34m\u001b[0m\u001b[0;34m\u001b[0m\u001b[0m\n",
      "\u001b[0m\u001b[0;32m--> 219 \u001b[0;31m            \u001b[0moptimizer\u001b[0m\u001b[0;34m.\u001b[0m\u001b[0mstep\u001b[0m\u001b[0;34m(\u001b[0m\u001b[0;34m)\u001b[0m\u001b[0;34m\u001b[0m\u001b[0;34m\u001b[0m\u001b[0m\n",
      "\u001b[0m\u001b[0;32m    220 \u001b[0;31m\u001b[0;34m\u001b[0m\u001b[0m\n",
      "\u001b[0m\u001b[0;32m    221 \u001b[0;31m        \u001b[0;32mif\u001b[0m \u001b[0mtrain_stop_thresh\u001b[0m \u001b[0;32mis\u001b[0m \u001b[0;32mnot\u001b[0m \u001b[0;32mNone\u001b[0m \u001b[0;32mand\u001b[0m \u001b[0mtrain_stop_thresh\u001b[0m \u001b[0;34m>=\u001b[0m \u001b[0mmin_loss\u001b[0m\u001b[0;34m:\u001b[0m\u001b[0;34m\u001b[0m\u001b[0;34m\u001b[0m\u001b[0m\n",
      "\u001b[0m\n",
      "ipdb> print(ben.x)\n",
      "tensor([[-1.2966, -1.0709, -1.5994,  ..., -1.3686, -1.9508, -1.6224],\n",
      "        [-1.2852, -1.0615, -1.5826,  ..., -1.3638, -1.9483, -1.6126],\n",
      "        [-1.2932, -1.0685, -1.5944,  ..., -1.3677, -1.9503, -1.6194],\n",
      "        ...,\n",
      "        [-1.2861, -1.0628, -1.5840,  ..., -1.3645, -1.9487, -1.6133],\n",
      "        [-1.2881, -1.0645, -1.5868,  ..., -1.3656, -1.9492, -1.6149],\n",
      "        [-1.2935, -1.0686, -1.5946,  ..., -1.3677, -1.9500, -1.6196]],\n",
      "       grad_fn=<AddBackward0>)\n",
      "ipdb> print(ben.prev_output)\n",
      "tensor([[0., 0., 0.,  ..., 0., 0., 0.],\n",
      "        [0., 0., 0.,  ..., 0., 0., 0.],\n",
      "        [0., 0., 0.,  ..., 0., 0., 0.],\n",
      "        ...,\n",
      "        [0., 0., 0.,  ..., 0., 0., 0.],\n",
      "        [0., 0., 0.,  ..., 0., 0., 0.],\n",
      "        [0., 0., 0.,  ..., 0., 0., 0.]], grad_fn=<TanhBackward>)\n",
      "ipdb> print(ben.W)\n",
      "Parameter containing:\n",
      "tensor([[-0.0542,  0.0157, -0.0606,  ...,  0.0079,  0.0537, -0.0492],\n",
      "        [ 0.0046, -0.0605, -0.0865,  ..., -0.0208,  0.0170, -0.0285],\n",
      "        [-0.0034,  0.0033, -0.1317,  ...,  0.0356,  0.0592, -0.0140],\n",
      "        ...,\n",
      "        [-0.0331, -0.0498, -0.0450,  ..., -0.0066, -0.0256,  0.0372],\n",
      "        [ 0.0690, -0.0121,  0.0558,  ..., -0.0506, -0.1184, -0.0091],\n",
      "        [-0.0425, -0.0504,  0.0504,  ..., -0.0141, -0.0435, -0.0456]],\n",
      "       requires_grad=True)\n",
      "ipdb> print(ben.I)\n",
      "Parameter containing:\n",
      "tensor([[-0.0800, -0.0151,  0.0151,  ..., -0.0006, -0.0012, -0.0011],\n",
      "        [-0.0300, -0.0326,  0.0080,  ...,  0.0280, -0.0023, -0.0046],\n",
      "        [ 0.0567, -0.1148, -0.0312,  ...,  0.0003, -0.0036, -0.0023],\n",
      "        ...,\n",
      "        [-0.0638,  0.0881, -0.0802,  ..., -0.0016,  0.0377, -0.0092],\n",
      "        [-0.0118, -0.0898, -0.0639,  ..., -0.0259,  0.0457, -0.0105],\n",
      "        [-0.0998,  0.0806, -0.0465,  ..., -0.0007, -0.0005,  0.0003]],\n",
      "       requires_grad=True)\n",
      "ipdb> print(ben_in)\n",
      "tensor([[ 0.9997,  1.0000,  0.9999,  ...,  0.6922, -4.3985, -0.8074],\n",
      "        [ 0.9997,  1.0000,  0.9999,  ...,  0.6920, -4.3985, -0.8075],\n",
      "        [ 0.9997,  1.0000,  0.9999,  ...,  0.6922, -4.3985, -0.8074],\n",
      "        ...,\n",
      "        [ 0.9997,  1.0000,  0.9999,  ...,  0.6920, -4.3985, -0.8074],\n",
      "        [ 0.9997,  1.0000,  0.9999,  ...,  0.6921, -4.3985, -0.8074],\n",
      "        [ 0.9997,  1.0000,  0.9999,  ...,  0.6922, -4.3985, -0.8074]],\n",
      "       grad_fn=<CatBackward>)\n",
      "ipdb> print(observations[0])\n",
      "[[9.99677955e-01 9.99999995e-01 9.99930057e-01 ... 2.04038039e-21\n",
      "  9.38783755e-35 1.92485048e-51]\n",
      " [9.99677955e-01 9.99999995e-01 9.99929838e-01 ... 2.04038015e-21\n",
      "  9.38783643e-35 1.92485026e-51]\n",
      " [9.99677955e-01 9.99999995e-01 9.99930001e-01 ... 2.04038027e-21\n",
      "  9.38783699e-35 1.92485037e-51]\n",
      " ...\n",
      " [9.99677955e-01 9.99999995e-01 9.99929866e-01 ... 2.04038015e-21\n",
      "  9.38783643e-35 1.92485026e-51]\n",
      " [9.99677955e-01 9.99999995e-01 9.99929906e-01 ... 2.04038015e-21\n",
      "  9.38783643e-35 1.92485026e-51]\n",
      " [9.99677955e-01 9.99999995e-01 9.99929997e-01 ... 2.04038027e-21\n",
      "  9.38783699e-35 1.92485037e-51]]\n",
      "ipdb> print(observations[0].shape)\n",
      "(64, 35)\n",
      "ipdb> print(observations[0][0, :]\n",
      "*** SyntaxError: unexpected EOF while parsing\n",
      "ipdb> print(observations[0][0, :])\n",
      "[9.99677955e-01 9.99999995e-01 9.99930057e-01 8.95647997e-01\n",
      " 4.24794275e-01 9.72430706e-01 9.99995831e-01 1.00000000e+00\n",
      " 1.00000001e+00 1.00000000e+00 9.99999995e-01 9.99685761e-01\n",
      " 7.54985883e-01 3.05685775e-02 2.73283324e-06 1.33340077e-13\n",
      " 2.93941768e-24 2.89000763e-38 1.26625834e-55 6.37662790e-53\n",
      " 5.76557279e-36 2.32310013e-22 4.17296517e-12 3.36372713e-05\n",
      " 1.34939853e-01 9.63952301e-01 9.99998513e-01 9.99999520e-01\n",
      " 9.78808113e-01 1.91803227e-01 8.61297065e-05 1.97722057e-11\n",
      " 2.04038039e-21 9.38783755e-35 1.92485048e-51]\n",
      "ipdb> print(mrnn.x)\n",
      "tensor([[ 7.5187,  7.9858, 12.9703,  ...,  0.3462, -0.0997, -0.0558],\n",
      "        [ 7.5178,  7.9843, 12.9683,  ...,  0.2673, -0.1082, -0.0413],\n",
      "        [ 7.5184,  7.9854, 12.9698,  ...,  0.3260, -0.1007, -0.0523],\n",
      "        ...,\n",
      "        [ 7.5179,  7.9844, 12.9686,  ...,  0.2776, -0.1068, -0.0450],\n",
      "        [ 7.5181,  7.9847, 12.9689,  ...,  0.2925, -0.1045, -0.0479],\n",
      "        [ 7.5184,  7.9853, 12.9697,  ...,  0.3280, -0.1005, -0.0546]])\n",
      "ipdb> torch.save(ben.state_dict(), 'benblah.pth')\n",
      "ipdb> print(mrnn.W.grad)\n",
      "*** AttributeError: 'MichaelsRNN' object has no attribute 'W'\n",
      "ipdb> print(mrnn.I.grda)\n",
      "*** AttributeError: 'Parameter' object has no attribute 'grda'\n",
      "ipdb> print(mrnn.I.grad)\n",
      "None\n",
      "ipdb> torch.save(model.state_dict(), \"model.pth\")\n",
      "ipdb> import h5py\n",
      "ipdb> f = h5py.File('blah.hdf5')\n",
      "*** FileNotFoundError: [Errno 2] Unable to open file (unable to open file: name = 'blah.hdf5', errno = 2, error message = 'No such file or directory', flags = 0, o_flags = 0)\n",
      "ipdb> f = h5py.File('blah.hdf5', 'w')\n",
      "ipdb> f['observations'] = observations\n",
      "ipdb> f['obs_vec'] = obs_vec\n",
      "ipdb> f['ben_in'\n",
      "*** SyntaxError: unexpected EOF while parsing\n",
      "ipdb> f['ben_in'] = ben_in\n",
      "*** RuntimeError: Can't call numpy() on Tensor that requires grad. Use tensor.detach().numpy() instead.\n",
      "ipdb> f['ben_in'] = ben_in.detach().numpy()\n",
      "ipdb> f['ben_preds'] = ben_preds.detach().numpy()\n",
      "ipdb> f['dout'] = dout\n",
      "ipdb> f['din'] = din\n",
      "ipdb> f['loss'] = loss.item()\n",
      "ipdb> print(f['loss'])\n",
      "<HDF5 dataset \"loss\": shape (), type \"<f8\">\n",
      "ipdb> print(f['loss'][()])\n",
      "0.09040701389312744\n",
      "ipdb> f['ben_W_grad'] = ben.W.grad.detach().numpy()\n",
      "ipdb> f['ben_I_grad'] = ben.I.grad.detach().numpy()\n",
      "ipdb> f['ben_fc_weight_grad'] = ben.fc.weight.grad.detach().numpy()\n",
      "ipdb> print(stim_params.grad)\n"
     ]
    },
    {
     "name": "stderr",
     "output_type": "stream",
     "text": [
      "<stdin>:1: UserWarning: The .grad attribute of a Tensor that is not a leaf Tensor is being accessed. Its .grad attribute won't be populated during autograd.backward(). If you indeed want the gradient for a non-leaf Tensor, use .retain_grad() on the non-leaf Tensor. If you access the non-leaf Tensor by mistake, make sure you access the leaf Tensor instead. See github.com/pytorch/pytorch/pull/30531 for more informations.\n"
     ]
    },
    {
     "name": "stdout",
     "output_type": "stream",
     "text": [
      "None\n",
      "ipdb> f['ben_in_grad'] = ben_in.grad.detach().numpy()\n",
      "ipdb> f['model_fc_W_grad'] = model.fc.weight.grad.detach().numpy()\n",
      "ipdb> f.close()\n",
      "ipdb> quit\n"
     ]
    },
    {
     "ename": "BdbQuit",
     "evalue": "",
     "output_type": "error",
     "traceback": [
      "\u001b[0;31m---------------------------------------------------------------------------\u001b[0m",
      "\u001b[0;31mBdbQuit\u001b[0m                                   Traceback (most recent call last)",
      "\u001b[0;32m<ipython-input-76-c12685bc28e5>\u001b[0m in \u001b[0;36m<module>\u001b[0;34m\u001b[0m\n\u001b[0;32m----> 1\u001b[0;31m \u001b[0mcpn_model\u001b[0m\u001b[0;34m.\u001b[0m\u001b[0mtrain_model\u001b[0m\u001b[0;34m(\u001b[0m\u001b[0;34m*\u001b[0m\u001b[0mtrain_args\u001b[0m\u001b[0;34m)\u001b[0m\u001b[0;34m\u001b[0m\u001b[0;34m\u001b[0m\u001b[0m\n\u001b[0m",
      "\u001b[0;32m~/Projects/coproc/coproc-poc/cpn_model.py\u001b[0m in \u001b[0;36mtrain_model\u001b[0;34m(dataset, model, mrnn, ben, observer_instance, optimizer, example_len, in_dim, out_dim, train_max_epochs, stim_reg_weight, batch_size, train_pct_stop_thresh, train_stop_thresh, model_save_path)\u001b[0m\n\u001b[1;32m    217\u001b[0m \u001b[0;34m\u001b[0m\u001b[0m\n\u001b[1;32m    218\u001b[0m             \u001b[0mloss\u001b[0m\u001b[0;34m.\u001b[0m\u001b[0mbackward\u001b[0m\u001b[0;34m(\u001b[0m\u001b[0;34m)\u001b[0m\u001b[0;34m\u001b[0m\u001b[0;34m\u001b[0m\u001b[0m\n\u001b[0;32m--> 219\u001b[0;31m             \u001b[0moptimizer\u001b[0m\u001b[0;34m.\u001b[0m\u001b[0mstep\u001b[0m\u001b[0;34m(\u001b[0m\u001b[0;34m)\u001b[0m\u001b[0;34m\u001b[0m\u001b[0;34m\u001b[0m\u001b[0m\n\u001b[0m\u001b[1;32m    220\u001b[0m \u001b[0;34m\u001b[0m\u001b[0m\n\u001b[1;32m    221\u001b[0m         \u001b[0;32mif\u001b[0m \u001b[0mtrain_stop_thresh\u001b[0m \u001b[0;32mis\u001b[0m \u001b[0;32mnot\u001b[0m \u001b[0;32mNone\u001b[0m \u001b[0;32mand\u001b[0m \u001b[0mtrain_stop_thresh\u001b[0m \u001b[0;34m>=\u001b[0m \u001b[0mmin_loss\u001b[0m\u001b[0;34m:\u001b[0m\u001b[0;34m\u001b[0m\u001b[0;34m\u001b[0m\u001b[0m\n",
      "\u001b[0;32m~/Projects/coproc/coproc-poc/cpn_model.py\u001b[0m in \u001b[0;36mtrain_model\u001b[0;34m(dataset, model, mrnn, ben, observer_instance, optimizer, example_len, in_dim, out_dim, train_max_epochs, stim_reg_weight, batch_size, train_pct_stop_thresh, train_stop_thresh, model_save_path)\u001b[0m\n\u001b[1;32m    217\u001b[0m \u001b[0;34m\u001b[0m\u001b[0m\n\u001b[1;32m    218\u001b[0m             \u001b[0mloss\u001b[0m\u001b[0;34m.\u001b[0m\u001b[0mbackward\u001b[0m\u001b[0;34m(\u001b[0m\u001b[0;34m)\u001b[0m\u001b[0;34m\u001b[0m\u001b[0;34m\u001b[0m\u001b[0m\n\u001b[0;32m--> 219\u001b[0;31m             \u001b[0moptimizer\u001b[0m\u001b[0;34m.\u001b[0m\u001b[0mstep\u001b[0m\u001b[0;34m(\u001b[0m\u001b[0;34m)\u001b[0m\u001b[0;34m\u001b[0m\u001b[0;34m\u001b[0m\u001b[0m\n\u001b[0m\u001b[1;32m    220\u001b[0m \u001b[0;34m\u001b[0m\u001b[0m\n\u001b[1;32m    221\u001b[0m         \u001b[0;32mif\u001b[0m \u001b[0mtrain_stop_thresh\u001b[0m \u001b[0;32mis\u001b[0m \u001b[0;32mnot\u001b[0m \u001b[0;32mNone\u001b[0m \u001b[0;32mand\u001b[0m \u001b[0mtrain_stop_thresh\u001b[0m \u001b[0;34m>=\u001b[0m \u001b[0mmin_loss\u001b[0m\u001b[0;34m:\u001b[0m\u001b[0;34m\u001b[0m\u001b[0;34m\u001b[0m\u001b[0m\n",
      "\u001b[0;32m/usr/lib/python3.8/bdb.py\u001b[0m in \u001b[0;36mtrace_dispatch\u001b[0;34m(self, frame, event, arg)\u001b[0m\n\u001b[1;32m     86\u001b[0m             \u001b[0;32mreturn\u001b[0m \u001b[0;31m# None\u001b[0m\u001b[0;34m\u001b[0m\u001b[0;34m\u001b[0m\u001b[0m\n\u001b[1;32m     87\u001b[0m         \u001b[0;32mif\u001b[0m \u001b[0mevent\u001b[0m \u001b[0;34m==\u001b[0m \u001b[0;34m'line'\u001b[0m\u001b[0;34m:\u001b[0m\u001b[0;34m\u001b[0m\u001b[0;34m\u001b[0m\u001b[0m\n\u001b[0;32m---> 88\u001b[0;31m             \u001b[0;32mreturn\u001b[0m \u001b[0mself\u001b[0m\u001b[0;34m.\u001b[0m\u001b[0mdispatch_line\u001b[0m\u001b[0;34m(\u001b[0m\u001b[0mframe\u001b[0m\u001b[0;34m)\u001b[0m\u001b[0;34m\u001b[0m\u001b[0;34m\u001b[0m\u001b[0m\n\u001b[0m\u001b[1;32m     89\u001b[0m         \u001b[0;32mif\u001b[0m \u001b[0mevent\u001b[0m \u001b[0;34m==\u001b[0m \u001b[0;34m'call'\u001b[0m\u001b[0;34m:\u001b[0m\u001b[0;34m\u001b[0m\u001b[0;34m\u001b[0m\u001b[0m\n\u001b[1;32m     90\u001b[0m             \u001b[0;32mreturn\u001b[0m \u001b[0mself\u001b[0m\u001b[0;34m.\u001b[0m\u001b[0mdispatch_call\u001b[0m\u001b[0;34m(\u001b[0m\u001b[0mframe\u001b[0m\u001b[0;34m,\u001b[0m \u001b[0marg\u001b[0m\u001b[0;34m)\u001b[0m\u001b[0;34m\u001b[0m\u001b[0;34m\u001b[0m\u001b[0m\n",
      "\u001b[0;32m/usr/lib/python3.8/bdb.py\u001b[0m in \u001b[0;36mdispatch_line\u001b[0;34m(self, frame)\u001b[0m\n\u001b[1;32m    111\u001b[0m         \u001b[0;32mif\u001b[0m \u001b[0mself\u001b[0m\u001b[0;34m.\u001b[0m\u001b[0mstop_here\u001b[0m\u001b[0;34m(\u001b[0m\u001b[0mframe\u001b[0m\u001b[0;34m)\u001b[0m \u001b[0;32mor\u001b[0m \u001b[0mself\u001b[0m\u001b[0;34m.\u001b[0m\u001b[0mbreak_here\u001b[0m\u001b[0;34m(\u001b[0m\u001b[0mframe\u001b[0m\u001b[0;34m)\u001b[0m\u001b[0;34m:\u001b[0m\u001b[0;34m\u001b[0m\u001b[0;34m\u001b[0m\u001b[0m\n\u001b[1;32m    112\u001b[0m             \u001b[0mself\u001b[0m\u001b[0;34m.\u001b[0m\u001b[0muser_line\u001b[0m\u001b[0;34m(\u001b[0m\u001b[0mframe\u001b[0m\u001b[0;34m)\u001b[0m\u001b[0;34m\u001b[0m\u001b[0;34m\u001b[0m\u001b[0m\n\u001b[0;32m--> 113\u001b[0;31m             \u001b[0;32mif\u001b[0m \u001b[0mself\u001b[0m\u001b[0;34m.\u001b[0m\u001b[0mquitting\u001b[0m\u001b[0;34m:\u001b[0m \u001b[0;32mraise\u001b[0m \u001b[0mBdbQuit\u001b[0m\u001b[0;34m\u001b[0m\u001b[0;34m\u001b[0m\u001b[0m\n\u001b[0m\u001b[1;32m    114\u001b[0m         \u001b[0;32mreturn\u001b[0m \u001b[0mself\u001b[0m\u001b[0;34m.\u001b[0m\u001b[0mtrace_dispatch\u001b[0m\u001b[0;34m\u001b[0m\u001b[0;34m\u001b[0m\u001b[0m\n\u001b[1;32m    115\u001b[0m \u001b[0;34m\u001b[0m\u001b[0m\n",
      "\u001b[0;31mBdbQuit\u001b[0m: "
     ]
    }
   ],
   "source": [
    "cpn_model.train_model(*train_args)"
   ]
  },
  {
   "cell_type": "code",
   "execution_count": 44,
   "id": "338c3094",
   "metadata": {},
   "outputs": [
    {
     "name": "stdout",
     "output_type": "stream",
     "text": [
      "[StimModel(\n",
      "  (activation_func): ReTanh()\n",
      "  (fc): Linear(in_features=190, out_features=105, bias=True)\n",
      "), <observer.ObserverGaussian1d object at 0x7fe1a22c6fa0>, AdamW (\n",
      "Parameter Group 0\n",
      "    amsgrad: False\n",
      "    betas: (0.9, 0.999)\n",
      "    eps: 1e-08\n",
      "    lr: 0.01\n",
      "    weight_decay: 0.01\n",
      ")]\n"
     ]
    }
   ],
   "source": [
    "op = AdamW(train_args[1].parameters(), lr=0.01)\n",
    "train_args = list(train_args)\n",
    "train_args[5] = op\n",
    "print(train_args[3:6])"
   ]
  },
  {
   "cell_type": "code",
   "execution_count": 35,
   "id": "521ddd30",
   "metadata": {},
   "outputs": [],
   "source": [
    "import stim_model\n",
    "ovd = train_args[4].out_dim * 3\n",
    "sd = stimulus.num_stim_channels\n",
    "ben = stim_model.load_from_file(BEN_MODEL_PATH, ovd + sd, ovd)"
   ]
  },
  {
   "cell_type": "code",
   "execution_count": 37,
   "id": "8f5fe911",
   "metadata": {},
   "outputs": [],
   "source": [
    "train_args[3] = ben"
   ]
  },
  {
   "cell_type": "code",
   "execution_count": 72,
   "id": "f4662d53",
   "metadata": {},
   "outputs": [
    {
     "name": "stdout",
     "output_type": "stream",
     "text": [
      "torch.Size([64, 140])\n",
      "tensor([[ 9.4913e-07,  3.4652e-07,  2.3553e-07,  ..., -1.8996e-11,\n",
      "          8.4051e-10,  3.4139e-10],\n",
      "        [ 9.4260e-07,  2.9936e-07,  1.8435e-07,  ..., -2.1296e-10,\n",
      "          8.4464e-10,  1.6565e-10],\n",
      "        [ 1.0112e-06,  2.6495e-07,  2.3141e-07,  ..., -4.0874e-10,\n",
      "          8.7424e-10,  1.5835e-11],\n",
      "        ...,\n",
      "        [ 9.3517e-07,  2.9555e-07,  1.6778e-07,  ..., -1.6756e-10,\n",
      "          8.3928e-10,  2.1279e-10],\n",
      "        [ 9.4260e-07,  2.9936e-07,  1.8435e-07,  ..., -2.1296e-10,\n",
      "          8.4464e-10,  1.6565e-10],\n",
      "        [ 9.6922e-07,  3.2272e-07,  2.4639e-07,  ..., -2.7137e-10,\n",
      "          9.0416e-10,  1.3642e-10]])\n"
     ]
    }
   ],
   "source": [
    "print(cpn_model.bi.shape)\n",
    "print(cpn_model.bi.grad)"
   ]
  },
  {
   "cell_type": "code",
   "execution_count": 73,
   "id": "ee38a33d",
   "metadata": {},
   "outputs": [
    {
     "name": "stdout",
     "output_type": "stream",
     "text": [
      "tensor([ 3.4879,  2.7927,  3.0463,  2.5524, -2.0597, -2.4432, -1.1065, -0.8758,\n",
      "        -2.5194, -1.8867], grad_fn=<SliceBackward>)\n",
      "tensor([-1.5640e-10,  1.0171e-10, -4.2748e-10, -9.8202e-11, -4.9592e-10,\n",
      "         4.2175e-10, -7.5766e-11, -1.8996e-11,  8.4051e-10,  3.4139e-10])\n"
     ]
    }
   ],
   "source": [
    "print(cpn_model.bi[0,-10:])\n",
    "print(cpn_model.bi.grad[0,-10:])"
   ]
  },
  {
   "cell_type": "code",
   "execution_count": 74,
   "id": "c73f7440",
   "metadata": {},
   "outputs": [
    {
     "name": "stdout",
     "output_type": "stream",
     "text": [
      "tensor([0., 0., 0., 0., 0., 0., 0., 0., 0., 0., 0., 0., 0., 0., 0., 0., 0., 0., 0., 0., 0., 0., 0., 0.,\n",
      "        0., 0., 0., 0., 0., 0., 0., 0., 0., 0., 0.])\n"
     ]
    }
   ],
   "source": [
    "print(train_args[1].fc.bias.grad)"
   ]
  },
  {
   "cell_type": "code",
   "execution_count": null,
   "id": "b2489dc6",
   "metadata": {},
   "outputs": [],
   "source": []
  }
 ],
 "metadata": {
  "kernelspec": {
   "display_name": "Python 3",
   "language": "python",
   "name": "python3"
  },
  "language_info": {
   "codemirror_mode": {
    "name": "ipython",
    "version": 3
   },
   "file_extension": ".py",
   "mimetype": "text/x-python",
   "name": "python",
   "nbconvert_exporter": "python",
   "pygments_lexer": "ipython3",
   "version": "3.8.5"
  }
 },
 "nbformat": 4,
 "nbformat_minor": 5
}
