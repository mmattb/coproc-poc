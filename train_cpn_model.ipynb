{
 "cells": [
  {
   "cell_type": "code",
   "execution_count": 3,
   "id": "9b89ec40",
   "metadata": {},
   "outputs": [
    {
     "name": "stdout",
     "output_type": "stream",
     "text": [
      "The autoreload extension is already loaded. To reload it, use:\n",
      "  %reload_ext autoreload\n"
     ]
    }
   ],
   "source": [
    "%load_ext autoreload\n",
    "%autoreload 2\n",
    "\n",
    "import os\n",
    "import statistics\n",
    "\n",
    "import h5py\n",
    "import numpy as np\n",
    "import matplotlib.pyplot as plt\n",
    "import torch\n",
    "from torch.optim import Adam, AdamW\n",
    "from torch.utils.data import DataLoader\n",
    "\n",
    "import config\n",
    "import cpn_model\n",
    "import generate_cpn_train_data\n",
    "import lesion\n",
    "import michaels_load\n",
    "import mRNN\n",
    "import observer\n",
    "import stim\n",
    "import utils\n",
    "\n",
    "OBSERVER_TYPE = \"gaussian\"\n",
    "LESION_PCT = 1.0\n",
    "STIMULATION_TYPE = \"gaussian\"\n",
    "ACTIVATION_TYPE = \"ReLU\"\n",
    "\n",
    "observer_instance, stimulus, lesion_instance, activation, recovery_mode, recovery_str, \\\n",
    "        run_type_str = config.get(observer_type=OBSERVER_TYPE,\n",
    "                                  stimulation_type=STIMULATION_TYPE,\n",
    "                                  lesion_pct=LESION_PCT,\n",
    "                                  activation_type=ACTIVATION_TYPE)\n",
    "\n",
    "CPN_DATA_DIR = \"cpn\"\n",
    "BEN_DATA_DIR = \"ben\"\n",
    "MRNN_DIR = \"mrnn\"\n",
    "CPN_DATA_PATH = os.path.join(CPN_DATA_DIR, f\"cpn_train_data_{run_type_str}.hdf5\")\n",
    "BEN_MODEL_PATH = os.path.join(BEN_DATA_DIR, f\"ben_model_{ACTIVATION_TYPE}_{run_type_str}.pth\")\n",
    "MRNN_MODEL_PATH = os.path.join(MRNN_DIR, f\"mrnn_{str(lesion_instance)}_{recovery_str}.pth\")\n",
    "MRNN_HEALTHY_MODEL_PATH = os.path.join(MRNN_DIR, f\"mrnn_{str(lesion_instance)}_{recovery_str}.pth_pre\")\n",
    "HEALTHY_DATA_PATH = os.path.join(CPN_DATA_DIR, f\"cpn_healthy_train_data_{run_type_str}.hdf5\")\n",
    "BATCH_SIZE = 64"
   ]
  },
  {
   "cell_type": "code",
   "execution_count": 2,
   "id": "751773ab",
   "metadata": {
    "scrolled": true
   },
   "outputs": [
    {
     "name": "stdout",
     "output_type": "stream",
     "text": [
      "1622405909.6519706 Generating example 0\n",
      "1622405918.2838452 Generating example 100\n",
      "1622405927.160955 Generating example 200\n",
      "1622405936.1305459 Generating example 300\n",
      "1622405944.736274 Generating example 400\n",
      "1622405953.3166397 Generating example 500\n",
      "1622405961.908941 Generating example 600\n",
      "1622405971.24647 Generating example 700\n",
      "1622405980.9103897 Generating example 800\n",
      "1622405991.1140835 Generating example 900\n",
      "1622406000.8291879 Generating example 1000\n",
      "1622406010.4261632 Generating example 1100\n",
      "1622406020.0238888 Generating example 1200\n",
      "1622406030.059827 Generating example 1300\n",
      "1622406039.8135185 Generating example 1400\n",
      "1622406049.6810439 Generating example 1500\n",
      "1622406059.4975903 Generating example 1600\n",
      "1622406069.3062358 Generating example 1700\n",
      "1622406078.89915 Generating example 1800\n",
      "1622406088.692391 Generating example 1900\n"
     ]
    },
    {
     "ename": "NameError",
     "evalue": "name 'prev_obvs' is not defined",
     "output_type": "error",
     "traceback": [
      "\u001b[0;31m---------------------------------------------------------------------------\u001b[0m",
      "\u001b[0;31mNameError\u001b[0m                                 Traceback (most recent call last)",
      "\u001b[0;32m<ipython-input-2-a652eef772fa>\u001b[0m in \u001b[0;36m<module>\u001b[0;34m\u001b[0m\n\u001b[0;32m----> 1\u001b[0;31m \u001b[0mgenerate_cpn_train_data\u001b[0m\u001b[0;34m.\u001b[0m\u001b[0mgenerate\u001b[0m\u001b[0;34m(\u001b[0m\u001b[0mHEALTHY_DATA_PATH\u001b[0m\u001b[0;34m,\u001b[0m \u001b[0mMRNN_HEALTHY_MODEL_PATH\u001b[0m\u001b[0;34m,\u001b[0m \u001b[0mobserver_instance\u001b[0m\u001b[0;34m)\u001b[0m\u001b[0;34m\u001b[0m\u001b[0;34m\u001b[0m\u001b[0m\n\u001b[0m",
      "\u001b[0;32m~/Projects/co-proc/coproc-poc/generate_cpn_train_data.py\u001b[0m in \u001b[0;36mgenerate\u001b[0;34m(out_path, mrnn_model_path, observer_instance, data_path, num_examples)\u001b[0m\n\u001b[1;32m     42\u001b[0m \u001b[0;34m\u001b[0m\u001b[0m\n\u001b[1;32m     43\u001b[0m     \u001b[0;32mtry\u001b[0m\u001b[0;34m:\u001b[0m\u001b[0;34m\u001b[0m\u001b[0;34m\u001b[0m\u001b[0m\n\u001b[0;32m---> 44\u001b[0;31m         return _generate(\n\u001b[0m\u001b[1;32m     45\u001b[0m             \u001b[0mout_file\u001b[0m\u001b[0;34m,\u001b[0m\u001b[0;34m\u001b[0m\u001b[0;34m\u001b[0m\u001b[0m\n\u001b[1;32m     46\u001b[0m             \u001b[0mmrnn\u001b[0m\u001b[0;34m,\u001b[0m\u001b[0;34m\u001b[0m\u001b[0;34m\u001b[0m\u001b[0m\n",
      "\u001b[0;32m~/Projects/co-proc/coproc-poc/generate_cpn_train_data.py\u001b[0m in \u001b[0;36m_generate\u001b[0;34m(out_file, mrnn, observer_instance, dataset, data_path, num_examples)\u001b[0m\n\u001b[1;32m    100\u001b[0m         \u001b[0mout_file\u001b[0m\u001b[0;34m[\u001b[0m\u001b[0;34m\"/%s/class\"\u001b[0m \u001b[0;34m%\u001b[0m \u001b[0mstr\u001b[0m\u001b[0;34m(\u001b[0m\u001b[0meidx\u001b[0m\u001b[0;34m)\u001b[0m\u001b[0;34m]\u001b[0m \u001b[0;34m=\u001b[0m \u001b[0mdidx\u001b[0m\u001b[0;34m\u001b[0m\u001b[0;34m\u001b[0m\u001b[0m\n\u001b[1;32m    101\u001b[0m \u001b[0;34m\u001b[0m\u001b[0m\n\u001b[0;32m--> 102\u001b[0;31m     \u001b[0;32mreturn\u001b[0m \u001b[0mprev_obvs\u001b[0m\u001b[0;34m,\u001b[0m \u001b[0mcur_inps\u001b[0m\u001b[0;34m,\u001b[0m \u001b[0mcur_obvs\u001b[0m\u001b[0;34m\u001b[0m\u001b[0;34m\u001b[0m\u001b[0m\n\u001b[0m",
      "\u001b[0;31mNameError\u001b[0m: name 'prev_obvs' is not defined"
     ]
    }
   ],
   "source": [
    "generate_cpn_train_data.generate(HEALTHY_DATA_PATH, MRNN_HEALTHY_MODEL_PATH, observer_instance)"
   ]
  },
  {
   "cell_type": "code",
   "execution_count": 9,
   "id": "d18ace1c",
   "metadata": {},
   "outputs": [
    {
     "name": "stdout",
     "output_type": "stream",
     "text": [
      "Loading dataset; this may take awhile...\n"
     ]
    },
    {
     "ename": "NameError",
     "evalue": "name 'stim_model' is not defined",
     "output_type": "error",
     "traceback": [
      "\u001b[0;31m---------------------------------------------------------------------------\u001b[0m",
      "\u001b[0;31mNameError\u001b[0m                                 Traceback (most recent call last)",
      "\u001b[0;32m<ipython-input-9-b48543a4a7e4>\u001b[0m in \u001b[0;36m<module>\u001b[0;34m\u001b[0m\n\u001b[0;32m----> 1\u001b[0;31m cpn, dataset, optimizer = cpn_model.train_new(HEALTHY_DATA_PATH, MRNN_MODEL_PATH, BEN_MODEL_PATH, observer_instance,\n\u001b[0m\u001b[1;32m      2\u001b[0m                                               lesion_instance, stimulus, activation)\n",
      "\u001b[0;32m~/Projects/co-proc/coproc-poc/cpn_model.py\u001b[0m in \u001b[0;36mtrain_new\u001b[0;34m(train_data_path, mrnn_model_path, ben_model_path, observer_instance, lesion, stimulus, activation_func, learning_rate, train_max_epochs, batch_size, train_pct_stop_thresh, train_stop_thresh, model_save_path)\u001b[0m\n\u001b[1;32m    213\u001b[0m \u001b[0;34m\u001b[0m\u001b[0m\n\u001b[1;32m    214\u001b[0m     \u001b[0;31m# NOTE: if we want to lock ben, do it here with the 'pretrained' kwarg\u001b[0m\u001b[0;34m\u001b[0m\u001b[0;34m\u001b[0m\u001b[0;34m\u001b[0m\u001b[0m\n\u001b[0;32m--> 215\u001b[0;31m     \u001b[0mben\u001b[0m \u001b[0;34m=\u001b[0m \u001b[0mstim_model\u001b[0m\u001b[0;34m.\u001b[0m\u001b[0mload_from_file\u001b[0m\u001b[0;34m(\u001b[0m\u001b[0mben_model_path\u001b[0m\u001b[0;34m)\u001b[0m\u001b[0;34m\u001b[0m\u001b[0;34m\u001b[0m\u001b[0m\n\u001b[0m\u001b[1;32m    216\u001b[0m     \u001b[0mmodel\u001b[0m \u001b[0;34m=\u001b[0m \u001b[0mCPNModel\u001b[0m\u001b[0;34m(\u001b[0m\u001b[0min_dim\u001b[0m\u001b[0;34m,\u001b[0m \u001b[0mout_dim\u001b[0m\u001b[0;34m,\u001b[0m \u001b[0mactivation_func\u001b[0m\u001b[0;34m=\u001b[0m\u001b[0mactivation_func\u001b[0m\u001b[0;34m)\u001b[0m\u001b[0;34m\u001b[0m\u001b[0;34m\u001b[0m\u001b[0m\n\u001b[1;32m    217\u001b[0m \u001b[0;34m\u001b[0m\u001b[0m\n",
      "\u001b[0;31mNameError\u001b[0m: name 'stim_model' is not defined"
     ]
    }
   ],
   "source": [
    "cpn, dataset, optimizer = cpn_model.train_new(HEALTHY_DATA_PATH, MRNN_MODEL_PATH, BEN_MODEL_PATH, observer_instance,\n",
    "                                              lesion_instance, stimulus, activation)"
   ]
  },
  {
   "cell_type": "code",
   "execution_count": null,
   "id": "062ec186",
   "metadata": {},
   "outputs": [],
   "source": []
  }
 ],
 "metadata": {
  "kernelspec": {
   "display_name": "Python 3",
   "language": "python",
   "name": "python3"
  },
  "language_info": {
   "codemirror_mode": {
    "name": "ipython",
    "version": 3
   },
   "file_extension": ".py",
   "mimetype": "text/x-python",
   "name": "python",
   "nbconvert_exporter": "python",
   "pygments_lexer": "ipython3",
   "version": "3.8.5"
  }
 },
 "nbformat": 4,
 "nbformat_minor": 5
}
