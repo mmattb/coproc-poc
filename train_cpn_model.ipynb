{
 "cells": [
  {
   "cell_type": "code",
   "execution_count": 1,
   "id": "9b89ec40",
   "metadata": {},
   "outputs": [],
   "source": [
    "%load_ext autoreload\n",
    "%autoreload 2\n",
    "\n",
    "\n",
    "HEALTHY_DATA_PATH = \"healthy_data.hdf5\"\n",
    "STIM_DATA_PATH = \"stim_data.hdf5\"\n",
    "BEN_MODEL_PATH = \"ben.pth\"\n",
    "BATCH_SIZE = 64\n",
    "\n",
    "import h5py\n",
    "import numpy as np\n",
    "import matplotlib.pyplot as plt\n",
    "import torch\n",
    "import torch.nn as nn\n",
    "from torch.optim import Adam\n",
    "from torch.utils.data import DataLoader\n",
    "\n",
    "import generate_stim_train_data\n",
    "import stim_model\n"
   ]
  },
  {
   "cell_type": "code",
   "execution_count": 2,
   "id": "751773ab",
   "metadata": {},
   "outputs": [
    {
     "name": "stdout",
     "output_type": "stream",
     "text": [
      "Generating example 0\n",
      "Generating example 100\n",
      "Generating example 200\n",
      "Generating example 300\n",
      "Generating example 400\n",
      "Generating example 500\n",
      "Generating example 600\n",
      "Generating example 700\n",
      "Generating example 800\n",
      "Generating example 900\n",
      "Generating example 1000\n",
      "Generating example 1100\n",
      "Generating example 1200\n",
      "Generating example 1300\n",
      "Generating example 1400\n",
      "Generating example 1500\n",
      "Generating example 1600\n",
      "Generating example 1700\n",
      "Generating example 1800\n",
      "Generating example 1900\n"
     ]
    }
   ],
   "source": [
    "generate_stim_train_data.generate(HEALTHY_DATA_PATH, lesion=False, stim_max_power=0.0)"
   ]
  },
  {
   "cell_type": "code",
   "execution_count": 6,
   "id": "763e0d51",
   "metadata": {},
   "outputs": [],
   "source": [
    "healthy_dataset = stim_model.StimDataset(HEALHTY_DATA_PATH)\n",
    "\n",
    "example_len = dataset[0][0].shape[0]\n",
    "\n",
    "assert (dataset[0][1].shape[1] % 3) == 0\n",
    "module_feature_dim = dataset[0][1].shape[1] // 3\n",
    "brain_feature_dim = module_feature_dim * 3\n",
    "stim_dim = dataset[0][0].shape[1] - (3 * module_feature_dim)"
   ]
  },
  {
   "cell_type": "code",
   "execution_count": null,
   "id": "62eca51a",
   "metadata": {},
   "outputs": [],
   "source": [
    "cpn = nn.Linear(brain_feature_dim, stim_dim)\n",
    "ben = stim_model.StimModel(brain_feature_dim + stim_dim, brain_feature_dim)\n",
    "brain = mRNN.MichaelsRNN(\n",
    "        init_data_path=generate_stim_train_data.network_path,\n",
    "        num_stim_channels=generate_stim_train_data.NUM_STIM_ELECTRODES\n",
    "        )\n",
    "\n",
    "ben.load_state_dict(torch.load(BEN_MODEL_PATH))\n",
    "ben.eval()\n",
    "\n",
    "# Lesion 75% of F5\n",
    "lesion_mask = torch.ones((brain.num_neurons,))\n",
    "lesion_mask[brain.num_neurons_per_module : brain.num_neurons_per_module] = 0.0\n",
    "brain.set_lesion(lesion_mask)\n",
    "\n",
    "    \n",
    "optimizer = Adam(model.parameters(), lr=0.008)"
   ]
  },
  {
   "cell_type": "code",
   "execution_count": 42,
   "id": "1360a38e",
   "metadata": {},
   "outputs": [
    {
     "name": "stdout",
     "output_type": "stream",
     "text": [
      "None\n",
      "0 tensor(0.1204, grad_fn=<MseLossBackward>)\n",
      "tensor([[-9.7216e-04, -6.8758e-04, -3.3728e-04,  ...,  2.9421e-04,\n",
      "          3.5721e-04, -6.4331e-04],\n",
      "        [-2.3303e-03, -1.6674e-03, -8.3013e-04,  ...,  5.9735e-04,\n",
      "          1.7399e-04, -1.2924e-03],\n",
      "        [-8.6358e-04, -6.3953e-04, -3.0043e-04,  ...,  2.2660e-04,\n",
      "          6.1363e-04, -1.2284e-04],\n",
      "        ...,\n",
      "        [-6.8300e-04, -4.7923e-04, -2.7855e-04,  ..., -2.6373e-04,\n",
      "         -4.0816e-05, -9.0174e-04],\n",
      "        [-3.1498e-04, -2.2471e-04, -7.1246e-05,  ..., -9.9359e-06,\n",
      "         -1.0447e-04, -6.9460e-06],\n",
      "        [ 1.6365e-04,  1.4940e-04,  1.2058e-04,  ...,  3.0128e-05,\n",
      "          1.4510e-04, -2.3275e-04]])\n"
     ]
    }
   ],
   "source": [
    "torch.autograd.set_detect_anomaly(True)\n",
    "\n",
    "losses = []\n",
    "min_loss = None\n",
    "for _ in range(2000):\n",
    "    loader = DataLoader(dataset, batch_size=BATCH_SIZE, shuffle=True)\n",
    "    for i_batch, sampled_batch in enumerate(loader):\n",
    "        cpn.reset()\n",
    "        ben.reset()\n",
    "        optimizer.zero_grad()\n",
    "        \n",
    "        din, dout = sampled_batch\n",
    "        batch_size = din.shape[0]\n",
    "        \n",
    "        brain_din = din[:, :brain_feature_dim]\n",
    "                 \n",
    "        ben_preds = torch.empty((batch_size, example_len, brain_feature_dim))\n",
    "        for tidx in range(example_len):\n",
    "            cur_in = din[:, tidx, :]\n",
    "            pred1 = cpn(cur_in)\n",
    "            pred1_padded = torch.zeros((pred1.shape[0], in_dim))\n",
    "            pred1_padded[:, :10] = pred1[:,:]\n",
    "            pred = sm(pred1_padded)\n",
    "                        \n",
    "            preds[:, tidx, :] = pred.reshape((1,) + pred.shape)[:, :]\n",
    "            \n",
    "        loss = torch.nn.MSELoss()(ben_preds, dout)\n",
    "        losses.append(loss.item())\n",
    "        print(i_batch, loss)\n",
    "        \n",
    "        if min_loss is None:\n",
    "            min_loss = loss.item()\n",
    "        elif min_loss > loss.item():\n",
    "            torch.save(cpn.state_dict(), \"cpn_model.pth\")\n",
    "            min_loss = loss.item()\n",
    "                \n",
    "        loss.backward()\n",
    "        optimizer.step()"
   ]
  },
  {
   "cell_type": "code",
   "execution_count": null,
   "id": "d18ace1c",
   "metadata": {},
   "outputs": [],
   "source": []
  }
 ],
 "metadata": {
  "kernelspec": {
   "display_name": "Python 3",
   "language": "python",
   "name": "python3"
  },
  "language_info": {
   "codemirror_mode": {
    "name": "ipython",
    "version": 3
   },
   "file_extension": ".py",
   "mimetype": "text/x-python",
   "name": "python",
   "nbconvert_exporter": "python",
   "pygments_lexer": "ipython3",
   "version": "3.8.5"
  }
 },
 "nbformat": 4,
 "nbformat_minor": 5
}
