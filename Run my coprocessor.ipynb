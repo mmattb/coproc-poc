{
 "cells": [
  {
   "cell_type": "code",
   "execution_count": 1,
   "id": "8ea6e008",
   "metadata": {},
   "outputs": [],
   "source": [
    "%load_ext autoreload\n",
    "%autoreload 2\n",
    "\n",
    "import logging\n",
    "import os\n",
    "import sys\n",
    "\n",
    "l = logging.getLogger()\n",
    "lh = logging.StreamHandler(sys.stdout)\n",
    "l.addHandler(lh)\n",
    "l.setLevel(logging.INFO)\n",
    "\n",
    "import torch\n",
    "\n",
    "import experiment\n",
    "import stats\n",
    "\n",
    "# Set up some logging if you want. The harness will\n",
    "# log to its own logger. You can capture those logs and\n",
    "# write them to file, via the root logger.\n",
    "# Point it wherever you want\n",
    "#LOG_DIR = os.path.join(os.curdir, \"logs\")\n",
    "\n",
    "# If you want to save logs to file\n",
    "#root_logger = logging.getLogger()\n",
    "#root_logger.addHandler(logging.FileHandler())\n",
    "\n",
    "# cuda=\"0\" for the first GPU in CUDA's \"PCI_BUS_ID\" order.\n",
    "# See: https://docs.nvidia.com/cuda/cuda-c-programming-guide/index.html#env-vars\n",
    "# For single GPU systems, just specify \"0\". nvidia-smi can be used\n",
    "# to find your GPU PCI order.\n",
    "# Can also supply cuda=None for CPU-based run\n",
    "# Will return a torch.device or None as the last return value.\n",
    "cfg = experiment.get_config(cuda=\"0\")\n",
    "\n",
    "import attr\n",
    "class MyCoProc(experiment.CoProc):\n",
    "    @attr.s(auto_attribs=True)\n",
    "    class MyUserData(stats.UserData):\n",
    "        hello: str\n",
    "        blah: float\n",
    "        \n",
    "        def render(self):\n",
    "            return {\n",
    "                       \"hello\": self.hello,\n",
    "                       \"blah\": self.blah\n",
    "                   }\n",
    "        \n",
    "            \n",
    "    def __init__(self, cfg):\n",
    "        self.cfg = cfg\n",
    "        \n",
    "    def forward(self, brain_data, loss_history):\n",
    "        batch_size = brain_data[0].shape[0]\n",
    "        stim = torch.ones(batch_size, cfg.stim_dim) * 0.01\n",
    "        \n",
    "        if cfg.cuda is not None:\n",
    "            stim.cuda(cfg.cuda)\n",
    "            \n",
    "        return stim\n",
    "    \n",
    "    def feedback(self, actuals, targets, loss_history):\n",
    "        if (loss_history.eidx % 20) == 0 and loss_history.eidx > 0:\n",
    "            stop = True\n",
    "        else:\n",
    "            stop = False\n",
    "            \n",
    "        is_validation = False\n",
    "        update_task_loss = True\n",
    "        user_data = MyCoProc.MyUserData(\"hello\", 1.2)\n",
    "        \n",
    "        return stop, update_task_loss, is_validation, user_data\n",
    "    \n",
    "    def finish(self, loss_history):\n",
    "        return False\n",
    "        \n",
    "my_coproc = MyCoProc(cfg)"
   ]
  },
  {
   "cell_type": "code",
   "execution_count": 2,
   "id": "36588223",
   "metadata": {},
   "outputs": [],
   "source": [
    "# Start running experiment; this and the next cell can be killed with\n",
    "#  ctrl+c, and resumed with the cell below.\n",
    "\n",
    "my_experiment = experiment.stage(my_coproc, cfg)"
   ]
  },
  {
   "cell_type": "code",
   "execution_count": 3,
   "id": "90db99b8",
   "metadata": {},
   "outputs": [
    {
     "name": "stdout",
     "output_type": "stream",
     "text": [
      "Hello 0 task_loss: 0.020536 pct_recov: 0.009 class_separation: -0.145 user: {'hello': 'hello', 'blah': 1.2}\n",
      "Hello 1 task_loss: 0.020536 pct_recov: 0.009 class_separation: -0.145 user: {'hello': 'hello', 'blah': 1.2}\n",
      "Hello 2 task_loss: 0.020536 pct_recov: 0.009 class_separation: -0.145 user: {'hello': 'hello', 'blah': 1.2}\n",
      "Hello 3 task_loss: 0.020536 pct_recov: 0.009 class_separation: -0.145 user: {'hello': 'hello', 'blah': 1.2}\n",
      "Hello 4 task_loss: 0.020536 pct_recov: 0.009 class_separation: -0.145 user: {'hello': 'hello', 'blah': 1.2}\n",
      "Hello 5 task_loss: 0.020536 pct_recov: 0.009 class_separation: -0.145 user: {'hello': 'hello', 'blah': 1.2}\n",
      "Hello 6 task_loss: 0.020536 pct_recov: 0.009 class_separation: -0.145 user: {'hello': 'hello', 'blah': 1.2}\n",
      "Hello 7 task_loss: 0.020536 pct_recov: 0.009 class_separation: -0.145 user: {'hello': 'hello', 'blah': 1.2}\n",
      "Hello 8 task_loss: 0.020536 pct_recov: 0.009 class_separation: -0.145 user: {'hello': 'hello', 'blah': 1.2}\n",
      "Hello 9 task_loss: 0.020536 pct_recov: 0.009 class_separation: -0.145 user: {'hello': 'hello', 'blah': 1.2}\n",
      "Hello 10 task_loss: 0.020536 pct_recov: 0.009 class_separation: -0.145 user: {'hello': 'hello', 'blah': 1.2}\n",
      "Hello 11 task_loss: 0.020536 pct_recov: 0.009 class_separation: -0.145 user: {'hello': 'hello', 'blah': 1.2}\n",
      "Hello 12 task_loss: 0.020536 pct_recov: 0.009 class_separation: -0.145 user: {'hello': 'hello', 'blah': 1.2}\n",
      "Hello 13 task_loss: 0.020536 pct_recov: 0.009 class_separation: -0.145 user: {'hello': 'hello', 'blah': 1.2}\n",
      "Hello 14 task_loss: 0.020536 pct_recov: 0.009 class_separation: -0.145 user: {'hello': 'hello', 'blah': 1.2}\n",
      "Hello 15 task_loss: 0.020536 pct_recov: 0.009 class_separation: -0.145 user: {'hello': 'hello', 'blah': 1.2}\n",
      "Hello 16 task_loss: 0.020536 pct_recov: 0.009 class_separation: -0.145 user: {'hello': 'hello', 'blah': 1.2}\n",
      "Hello 17 task_loss: 0.020536 pct_recov: 0.009 class_separation: -0.145 user: {'hello': 'hello', 'blah': 1.2}\n",
      "Hello 18 task_loss: 0.020536 pct_recov: 0.009 class_separation: -0.145 user: {'hello': 'hello', 'blah': 1.2}\n",
      "Hello 19 task_loss: 0.020536 pct_recov: 0.009 class_separation: -0.145 user: {'hello': 'hello', 'blah': 1.2}\n",
      "Hello 20 task_loss: 0.020536 pct_recov: 0.009 class_separation: -0.145 user: {'hello': 'hello', 'blah': 1.2}\n"
     ]
    }
   ],
   "source": [
    "loss_history = my_experiment.run()"
   ]
  },
  {
   "cell_type": "code",
   "execution_count": 4,
   "id": "e02a2cfa",
   "metadata": {},
   "outputs": [],
   "source": [
    "# Continue running experiment\n",
    "loss_history = my_experiment.run()"
   ]
  },
  {
   "cell_type": "code",
   "execution_count": null,
   "id": "088fa001",
   "metadata": {},
   "outputs": [],
   "source": [
    "# Show me how I did, make pretty graphs, etc.\n",
    "experiment.score(my_experiment.loss_history)"
   ]
  }
 ],
 "metadata": {
  "kernelspec": {
   "display_name": "Python 3",
   "language": "python",
   "name": "python3"
  },
  "language_info": {
   "codemirror_mode": {
    "name": "ipython",
    "version": 3
   },
   "file_extension": ".py",
   "mimetype": "text/x-python",
   "name": "python",
   "nbconvert_exporter": "python",
   "pygments_lexer": "ipython3",
   "version": "3.8.10"
  }
 },
 "nbformat": 4,
 "nbformat_minor": 5
}
