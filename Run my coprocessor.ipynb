{
 "cells": [
  {
   "cell_type": "code",
   "execution_count": null,
   "id": "8ea6e008",
   "metadata": {},
   "outputs": [],
   "source": [
    "import logging\n",
    "import os\n",
    "\n",
    "import experiment\n",
    "\n",
    "# Set up some logging if you want. The harness will\n",
    "# log to its own logger. You can capture those logs and\n",
    "# write them to file, via the root logger.\n",
    "# Point it wherever you want\n",
    "LOG_DIR = os.path.join(os.curdir, \"logs\")\n",
    "\n",
    "# If you want to save logs to file\n",
    "root_logger = logging.getLogger()\n",
    "root_logger.addHandler(logging.FileHandler())\n",
    "\n",
    "# cuda=\"0\" for the first GPU in CUDA's \"PCI_BUS_ID\" order.\n",
    "# See: https://docs.nvidia.com/cuda/cuda-c-programming-guide/index.html#env-vars\n",
    "# For single GPU systems, just specify \"0\". nvidia-smi can be used\n",
    "# to find your GPU PCI order.\n",
    "# Can also supply cuda=None for CPU-based run\n",
    "# Will return a torch.device or None as the last return value.\n",
    "cfg = experiment.get_config(cuda_device=\"0\")\n",
    "\n",
    "brain_dim, stim_dim, out_dim, cuda = cfg.unpack()\n",
    "\n",
    "import your_stuff\n",
    "\n",
    "\n",
    "class MyCoProc(experiment.CoProc):\n",
    "    def __init__(self, in_dim, stim_dim, out_dim, cuda):\n",
    "        ...\n",
    "        \n",
    "my_coproc = MyCoProc(brain_dim, stim_dim, out_dim, cuda)"
   ]
  },
  {
   "cell_type": "code",
   "execution_count": 1,
   "id": "36588223",
   "metadata": {},
   "outputs": [
    {
     "ename": "NameError",
     "evalue": "name 'experiment' is not defined",
     "output_type": "error",
     "traceback": [
      "\u001b[0;31m---------------------------------------------------------------------------\u001b[0m",
      "\u001b[0;31mNameError\u001b[0m                                 Traceback (most recent call last)",
      "\u001b[0;32m<ipython-input-1-b4820ba03e2e>\u001b[0m in \u001b[0;36m<module>\u001b[0;34m\u001b[0m\n\u001b[1;32m      1\u001b[0m \u001b[0;31m# Start running experiment; this and the next cell can be killed with\u001b[0m\u001b[0;34m\u001b[0m\u001b[0;34m\u001b[0m\u001b[0;34m\u001b[0m\u001b[0m\n\u001b[1;32m      2\u001b[0m \u001b[0;31m#  ctrl+c, and resumed with the cell below.\u001b[0m\u001b[0;34m\u001b[0m\u001b[0;34m\u001b[0m\u001b[0;34m\u001b[0m\u001b[0m\n\u001b[0;32m----> 3\u001b[0;31m \u001b[0mloss_history\u001b[0m \u001b[0;34m=\u001b[0m \u001b[0mexperiment\u001b[0m\u001b[0;34m.\u001b[0m\u001b[0mrun\u001b[0m\u001b[0;34m(\u001b[0m\u001b[0mmy_coproc\u001b[0m\u001b[0;34m)\u001b[0m\u001b[0;34m\u001b[0m\u001b[0;34m\u001b[0m\u001b[0m\n\u001b[0m",
      "\u001b[0;31mNameError\u001b[0m: name 'experiment' is not defined"
     ]
    }
   ],
   "source": [
    "# Start running experiment; this and the next cell can be killed with\n",
    "#  ctrl+c, and resumed with the cell below.\n",
    "\n",
    "my_experiment = experiment.stage(my_coproc, cfg, cuda=cuda)\n",
    "loss_history = my_experiment.run()"
   ]
  },
  {
   "cell_type": "code",
   "execution_count": null,
   "id": "e02a2cfa",
   "metadata": {},
   "outputs": [],
   "source": [
    "# Continue running experiment\n",
    "loss_history = my_experiment.run(my_coproc, cuda=cuda)"
   ]
  },
  {
   "cell_type": "code",
   "execution_count": null,
   "id": "088fa001",
   "metadata": {},
   "outputs": [],
   "source": [
    "# Show me how I did, make pretty graphs, etc.\n",
    "experiment.score(my_experiment.loss_history)"
   ]
  }
 ],
 "metadata": {
  "kernelspec": {
   "display_name": "Python 3",
   "language": "python",
   "name": "python3"
  },
  "language_info": {
   "codemirror_mode": {
    "name": "ipython",
    "version": 3
   },
   "file_extension": ".py",
   "mimetype": "text/x-python",
   "name": "python",
   "nbconvert_exporter": "python",
   "pygments_lexer": "ipython3",
   "version": "3.8.10"
  }
 },
 "nbformat": 4,
 "nbformat_minor": 5
}
